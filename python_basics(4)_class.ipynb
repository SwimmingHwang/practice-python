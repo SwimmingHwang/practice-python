{
 "cells": [
  {
   "cell_type": "markdown",
   "metadata": {},
   "source": [
    "2020.07.20"
   ]
  },
  {
   "cell_type": "markdown",
   "metadata": {},
   "source": [
    "### 클래스\n",
    "\n",
    "- 객체지향 언어(Object-oriented Programming, OOP) : 객체를 만들고 이용할 수 있는 기능을 제공하는 프로그래밍 언어\n",
    "- 객체 : 속성(상태, 특징)과 행위(행동, 동작, 기능)로 구성된 대상\n",
    "- python은 객체 별로 추가 메소드를 생성할 수 있음. java는 안 됨.\n",
    "\n",
    "#### 객체를 생성하는 법\n",
    "객체명 = 클래스명() "
   ]
  },
  {
   "cell_type": "code",
   "execution_count": 6,
   "metadata": {},
   "outputs": [],
   "source": [
    "class Person:\n",
    "    a = 123\n",
    "    def hello(self):\n",
    "        print(self.a)\n",
    "p = Person()"
   ]
  },
  {
   "cell_type": "code",
   "execution_count": 7,
   "metadata": {},
   "outputs": [
    {
     "data": {
      "text/plain": [
       "123"
      ]
     },
     "execution_count": 7,
     "metadata": {},
     "output_type": "execute_result"
    }
   ],
   "source": [
    "p.a"
   ]
  },
  {
   "cell_type": "code",
   "execution_count": 8,
   "metadata": {},
   "outputs": [
    {
     "name": "stdout",
     "output_type": "stream",
     "text": [
      "123\n"
     ]
    }
   ],
   "source": [
    "p.hello()"
   ]
  },
  {
   "cell_type": "code",
   "execution_count": 10,
   "metadata": {},
   "outputs": [
    {
     "name": "stdout",
     "output_type": "stream",
     "text": [
      "안녕~~!\n"
     ]
    }
   ],
   "source": [
    "# 클래스 정의\n",
    "class Person:\n",
    "    def hello(self):\n",
    "        print('안녕~~!')\n",
    "\n",
    "# 객체 생성\n",
    "carami = Person()\n",
    "\n",
    "# 메소드 호출\n",
    "carami.hello()"
   ]
  },
  {
   "cell_type": "code",
   "execution_count": 13,
   "metadata": {},
   "outputs": [
    {
     "data": {
      "text/plain": [
       "True"
      ]
     },
     "execution_count": 13,
     "metadata": {},
     "output_type": "execute_result"
    }
   ],
   "source": [
    "# carami가 Person의 인스턴스인지 확인하는 함수 \n",
    "isinstance(carami, Person)"
   ]
  },
  {
   "cell_type": "markdown",
   "metadata": {},
   "source": [
    "#### 생성자"
   ]
  },
  {
   "cell_type": "code",
   "execution_count": 32,
   "metadata": {},
   "outputs": [],
   "source": [
    "class Person:\n",
    "    # 속성 지정하기\n",
    "    def __init__(self, name = None,):\n",
    "        self.name = name\n",
    "    # method\n",
    "    def hello(self):\n",
    "        print(self.name, ' 안녕~')"
   ]
  },
  {
   "cell_type": "code",
   "execution_count": 28,
   "metadata": {},
   "outputs": [
    {
     "name": "stdout",
     "output_type": "stream",
     "text": [
      "황수영  안녕~\n"
     ]
    }
   ],
   "source": [
    "carami = Person('황수영')\n",
    "carami.hello()"
   ]
  },
  {
   "cell_type": "code",
   "execution_count": 29,
   "metadata": {},
   "outputs": [
    {
     "data": {
      "text/plain": [
       "__main__.Person"
      ]
     },
     "execution_count": 29,
     "metadata": {},
     "output_type": "execute_result"
    }
   ],
   "source": [
    "type(carami)"
   ]
  },
  {
   "cell_type": "markdown",
   "metadata": {},
   "source": [
    "#### 클래스 생성자의 파라미터에도 가변인자가 가능함"
   ]
  },
  {
   "cell_type": "code",
   "execution_count": 43,
   "metadata": {},
   "outputs": [
    {
     "name": "stdout",
     "output_type": "stream",
     "text": [
      "황셩 20\n"
     ]
    }
   ],
   "source": [
    "# positional arguments\n",
    "class Person:\n",
    "    def __init__(self,*args):\n",
    "        self.name = args[0]\n",
    "        self.age = args[1]\n",
    "        \n",
    "carami = Person('황셩',20)\n",
    "print(carami.name, carami.age)"
   ]
  },
  {
   "cell_type": "code",
   "execution_count": 44,
   "metadata": {},
   "outputs": [
    {
     "name": "stdout",
     "output_type": "stream",
     "text": [
      "kim esther 18\n"
     ]
    }
   ],
   "source": [
    "esther = Person(*['kim esther', 18])\n",
    "print(esther.name, esther.age)"
   ]
  },
  {
   "cell_type": "code",
   "execution_count": 41,
   "metadata": {},
   "outputs": [
    {
     "name": "stdout",
     "output_type": "stream",
     "text": [
      "황셩 20\n"
     ]
    }
   ],
   "source": [
    "    \n",
    "class Person:\n",
    "    def __init__(self, **kwargs):\n",
    "        self.name = kwargs['name']\n",
    "        self.age = kwargs['age']\n",
    "carami = Person(name = '황셩', age =20)\n",
    "print(carami.name, carami.age)"
   ]
  },
  {
   "cell_type": "code",
   "execution_count": 42,
   "metadata": {},
   "outputs": [
    {
     "name": "stdout",
     "output_type": "stream",
     "text": [
      "kim esther 18\n"
     ]
    }
   ],
   "source": [
    "esther = Person(**{'name':'kim esther','age' : 18})\n",
    "print(esther.name, esther.age)"
   ]
  },
  {
   "cell_type": "markdown",
   "metadata": {},
   "source": [
    "#### 하나의 새로운 객체에 속성 추가 예제"
   ]
  },
  {
   "cell_type": "code",
   "execution_count": 46,
   "metadata": {},
   "outputs": [
    {
     "name": "stdout",
     "output_type": "stream",
     "text": [
      "파이썬 철저 입문\n"
     ]
    }
   ],
   "source": [
    "class Book:\n",
    "    pass\n",
    "\n",
    "python = Book()\n",
    "python.name = '파이썬 철저 입문'\n",
    "print(python.name)"
   ]
  },
  {
   "cell_type": "code",
   "execution_count": 49,
   "metadata": {},
   "outputs": [
    {
     "ename": "AttributeError",
     "evalue": "'Book' object has no attribute 'name'",
     "output_type": "error",
     "traceback": [
      "\u001b[1;31m---------------------------------------------------------------------------\u001b[0m",
      "\u001b[1;31mAttributeError\u001b[0m                            Traceback (most recent call last)",
      "\u001b[1;32m<ipython-input-49-d3aa2aa30cb1>\u001b[0m in \u001b[0;36m<module>\u001b[1;34m\u001b[0m\n\u001b[0;32m      1\u001b[0m \u001b[0mjava\u001b[0m \u001b[1;33m=\u001b[0m \u001b[0mBook\u001b[0m\u001b[1;33m(\u001b[0m\u001b[1;33m)\u001b[0m\u001b[1;33m\u001b[0m\u001b[1;33m\u001b[0m\u001b[0m\n\u001b[1;32m----> 2\u001b[1;33m \u001b[0mprint\u001b[0m\u001b[1;33m(\u001b[0m\u001b[0mjava\u001b[0m\u001b[1;33m.\u001b[0m\u001b[0mname\u001b[0m\u001b[1;33m)\u001b[0m\u001b[1;33m\u001b[0m\u001b[1;33m\u001b[0m\u001b[0m\n\u001b[0m\u001b[0;32m      3\u001b[0m \u001b[1;31m# --> python이라는 객체에만 name이라는 attribute가 추가되었기 때문에 이는 오류가 남.\u001b[0m\u001b[1;33m\u001b[0m\u001b[1;33m\u001b[0m\u001b[1;33m\u001b[0m\u001b[0m\n",
      "\u001b[1;31mAttributeError\u001b[0m: 'Book' object has no attribute 'name'"
     ]
    }
   ],
   "source": [
    "java = Book()\n",
    "print(java.name) \n",
    "# --> python이라는 객체에만 name이라는 attribute가 추가되었기 때문에 이는 오류가 남."
   ]
  },
  {
   "cell_type": "markdown",
   "metadata": {},
   "source": [
    "#### 비공개 속성 ( Private Attribute)"
   ]
  },
  {
   "cell_type": "code",
   "execution_count": 54,
   "metadata": {},
   "outputs": [
    {
     "ename": "AttributeError",
     "evalue": "'Person' object has no attribute 'name'",
     "output_type": "error",
     "traceback": [
      "\u001b[1;31m---------------------------------------------------------------------------\u001b[0m",
      "\u001b[1;31mAttributeError\u001b[0m                            Traceback (most recent call last)",
      "\u001b[1;32m<ipython-input-54-a72c83604530>\u001b[0m in \u001b[0;36m<module>\u001b[1;34m\u001b[0m\n\u001b[0;32m      6\u001b[0m \u001b[0mcarami\u001b[0m \u001b[1;33m=\u001b[0m \u001b[0mPerson\u001b[0m\u001b[1;33m(\u001b[0m\u001b[0mname\u001b[0m \u001b[1;33m=\u001b[0m \u001b[1;34m'황셩'\u001b[0m\u001b[1;33m,\u001b[0m \u001b[0mage\u001b[0m  \u001b[1;33m=\u001b[0m \u001b[1;36m24\u001b[0m\u001b[1;33m)\u001b[0m\u001b[1;33m\u001b[0m\u001b[1;33m\u001b[0m\u001b[0m\n\u001b[0;32m      7\u001b[0m \u001b[1;31m# --> 비공개 속성이라서 클래스 밖에서는 사용할 수 없음\u001b[0m\u001b[1;33m\u001b[0m\u001b[1;33m\u001b[0m\u001b[1;33m\u001b[0m\u001b[0m\n\u001b[1;32m----> 8\u001b[1;33m \u001b[0mprint\u001b[0m\u001b[1;33m(\u001b[0m\u001b[0mcarami\u001b[0m\u001b[1;33m.\u001b[0m\u001b[0mname\u001b[0m\u001b[1;33m,\u001b[0m \u001b[0mcarami\u001b[0m\u001b[1;33m.\u001b[0m\u001b[0mage\u001b[0m\u001b[1;33m)\u001b[0m\u001b[1;33m\u001b[0m\u001b[1;33m\u001b[0m\u001b[0m\n\u001b[0m",
      "\u001b[1;31mAttributeError\u001b[0m: 'Person' object has no attribute 'name'"
     ]
    }
   ],
   "source": [
    "class Person :\n",
    "    def __init__(self, **kwargs):\n",
    "        self.__name = kwargs['name']\n",
    "        self.age = kwargs['age']\n",
    "        \n",
    "carami = Person(name = '황셩', age  = 24) \n",
    "# --> 비공개 속성이라서 클래스 밖에서는 사용할 수 없음\n",
    "print(carami.name, carami.age)"
   ]
  },
  {
   "cell_type": "code",
   "execution_count": 55,
   "metadata": {},
   "outputs": [
    {
     "name": "stdout",
     "output_type": "stream",
     "text": [
      "황셩 24\n"
     ]
    }
   ],
   "source": [
    "class Person :\n",
    "    def __init__(self, **kwargs):\n",
    "        self.__name = kwargs['name']\n",
    "        self.age = kwargs['age']\n",
    "    def get_name(self):\n",
    "        return self.__name\n",
    "    \n",
    "carami = Person(name = '황셩', age  = 24) \n",
    "print(carami.get_name(), carami.age)"
   ]
  },
  {
   "cell_type": "code",
   "execution_count": 57,
   "metadata": {},
   "outputs": [
    {
     "data": {
      "text/plain": [
       "{'_Person__name': '황셩', 'age': 24}"
      ]
     },
     "execution_count": 57,
     "metadata": {},
     "output_type": "execute_result"
    }
   ],
   "source": [
    "carami.__dict__ # 네임스페이스를 확인"
   ]
  },
  {
   "cell_type": "code",
   "execution_count": 58,
   "metadata": {},
   "outputs": [
    {
     "data": {
      "text/plain": [
       "__main__.Person"
      ]
     },
     "execution_count": 58,
     "metadata": {},
     "output_type": "execute_result"
    }
   ],
   "source": [
    "carami.__class__"
   ]
  },
  {
   "cell_type": "markdown",
   "metadata": {},
   "source": [
    "#### 비공개 메소드 (Private Method)"
   ]
  },
  {
   "cell_type": "code",
   "execution_count": 63,
   "metadata": {},
   "outputs": [
    {
     "name": "stdout",
     "output_type": "stream",
     "text": [
      "class~~\n"
     ]
    }
   ],
   "source": [
    "class Person:\n",
    "    def __hello(self):\n",
    "        print('class~~')\n",
    "    def hi(self):\n",
    "        self.__hello()\n",
    "carami = Person()\n",
    "\n",
    "carami.hi()\n",
    "# carami.__hello()\n",
    "# --> 비공개이기 때문에 호출되지 않음"
   ]
  },
  {
   "cell_type": "markdown",
   "metadata": {},
   "source": [
    "#### 클래스 속성 VS 인스턴스 속성\n",
    "- 클래스 변수\n",
    "    - 클래스명.변수명 형식으로 언제든지 호출할 수 있음.\n",
    "    - 모든 객체에서 클래스 변수는 공통으로 사용됨.\n",
    "\n",
    "- 인스턴스 변수\n",
    "    - 객체를 생성한 후 객체명.변수명 형식으로 접근할 수 있음.\n",
    "    - 각 객체에서 별도로 관리됨. \n",
    " \n",
    "- 이름이 같은 변수일 경우 별개로 동작함. "
   ]
  },
  {
   "cell_type": "code",
   "execution_count": 73,
   "metadata": {},
   "outputs": [
    {
     "name": "stdout",
     "output_type": "stream",
     "text": [
      "자동차 객체의 수 : 1\n",
      "자동차 객체의 수 : 2\n"
     ]
    }
   ],
   "source": [
    "# 클래스 속성 vs 인스턴스 속성\n",
    "class Car:\n",
    "    instance_count = 0 # Class variable\n",
    "    def __init__(self, size,color):\n",
    "        self.size = size # instance variable \n",
    "        self.color = color # instance variable\n",
    "        Car.instance_count = Car.instance_count + 1 \n",
    "        print(\"자동차 객체의 수 : {}\".format(Car.instance_count))\n",
    "        \n",
    "car1 = Car(11,\"red\")\n",
    "car2 = Car(13,\"black\")"
   ]
  },
  {
   "cell_type": "markdown",
   "metadata": {},
   "source": [
    "### 클래스에서 사용하는 함수\n",
    "#### instance method (인스턴스 메소드)\n",
    "- `__init__()`와 같은 각 객체에서 개별적으로 동작하는 함수를 만들고자 할 때 사용하는 함수\n",
    "- `self` 인자가 필요하며 클래스의 인스턴스(객체) 자신을 가리킴.\n",
    "- 인스턴스 메서드 안에서는 `self.함수명()` 형식으로 클래스 내의 다른 함수를 호출할 수 있음.\n",
    "\n",
    "#### static method (정적 메소드)\n",
    "- 클래스와 관련이 있어서 클래스 안에 두기는 하지만 인스턴스와 무관하게 독립적으로 동작하는 함수를 만들고 싶을 때 이용하는 함수.\n",
    "- 함수 정의시 `self`를 사용하지 않으며, 인스턴스 메소드, 변수에 접근할 수 없음.\n",
    "- 함수 앞에 `Decorator`인 `@staticmethod`를 선언해 정적 메서드임을 표시해야 함.\n",
    "\n",
    "#### class method (클래스 메소드)\n",
    "- 클래스 변수를 사용하기 위한 함수\n",
    "- 함수를 정의할 대 첫번째 인자로 `cls`가 필요함. 이를 이용해 클래스 변수에 접근\n",
    "- 함수 앞에 `Decorator`인 `@classmethod`를 지정해야 함.\n",
    "- 정적 메소드와 마찬가지로 객체를 생성하지 않고 클래스명을 이용해 메서드 호출 가능"
   ]
  },
  {
   "cell_type": "code",
   "execution_count": 76,
   "metadata": {},
   "outputs": [
    {
     "name": "stdout",
     "output_type": "stream",
     "text": [
      "30\n"
     ]
    }
   ],
   "source": [
    "# static method \n",
    "class Cal:\n",
    "    @staticmethod\n",
    "    def add(a,b):\n",
    "        print(a+b)\n",
    "# cal = Cal() -> 정적메소드이기 때문에 하지 않고 사용가능\n",
    "Cal.add(10,20)"
   ]
  },
  {
   "cell_type": "code",
   "execution_count": 79,
   "metadata": {},
   "outputs": [
    {
     "name": "stdout",
     "output_type": "stream",
     "text": [
      "2명 생성되었습니다.\n"
     ]
    }
   ],
   "source": [
    "# class method\n",
    "class Person:\n",
    "    count = 0\n",
    "    def __init__(self): # instance method\n",
    "        Person.count += 1\n",
    "    \n",
    "    @classmethod\n",
    "    def print_count(cls):\n",
    "        print('{}명 생성되었습니다.'.format(cls.count))\n",
    "\n",
    "carami = Person()\n",
    "esther = Person()\n",
    "Person.print_count()"
   ]
  },
  {
   "cell_type": "code",
   "execution_count": 22,
   "metadata": {},
   "outputs": [
    {
     "name": "stdout",
     "output_type": "stream",
     "text": [
      "test\n",
      "test\n"
     ]
    }
   ],
   "source": [
    "class Person:\n",
    "    name='test' # class 변수\n",
    "\n",
    "    def set_name(self,name):\n",
    "        Person.name = name \n",
    "    def get_name(self): \n",
    "        return self.name # 인스턴스 변수가 없어서 그냥 클래스 변수 반환\n",
    "    \n",
    "c = Person()\n",
    "# c.set_name('kang') \n",
    "print(c.get_name())  # 인스턴스 변수\n",
    "print(Person.name) # 클래스 변수"
   ]
  },
  {
   "cell_type": "code",
   "execution_count": 21,
   "metadata": {},
   "outputs": [
    {
     "name": "stdout",
     "output_type": "stream",
     "text": [
      "황수영\n",
      "test\n"
     ]
    }
   ],
   "source": [
    "class Person:\n",
    "    name='test' # class 변수\n",
    "    def __init__(self, name): # 인스턴스 변수는 무조건 init에 넣어야 함.\n",
    "        self.name = name\n",
    "    def set_name(self,name):\n",
    "        Person.name = name \n",
    "    def get_name(self): \n",
    "        return self.name # 인스턴스 변수가 없어서 그냥 클래스 변수 반환\n",
    "    \n",
    "c = Person('황수영')\n",
    "# c.set_name('kang') \n",
    "print(c.get_name())  # 인스턴스 변수\n",
    "print(Person.name) # 클래스 변수"
   ]
  },
  {
   "cell_type": "markdown",
   "metadata": {},
   "source": [
    "#### 객체와 클래스를 사용하는 이유\n",
    "- 코드 작성과 관리가 편하기 때문에"
   ]
  },
  {
   "cell_type": "markdown",
   "metadata": {},
   "source": [
    "> **리스트를 인스턴스 변수로 사용할 경우 `self` 를 해도 두개의 객체가 리스트를 공유하게 됩니다.**\n",
    "- 리스트는 mutable object로 변경이 가능한 객체이다.   \n",
    "    [참고사이트](https://hamait.tistory.com/634)"
   ]
  },
  {
   "cell_type": "markdown",
   "metadata": {},
   "source": [
    "#### 리스트 인스턴스 변수 예제"
   ]
  },
  {
   "cell_type": "code",
   "execution_count": 1,
   "metadata": {},
   "outputs": [
    {
     "name": "stdout",
     "output_type": "stream",
     "text": [
      "['candy', 'book']\n",
      "['candy', 'book']\n",
      "['candy', 'book']\n"
     ]
    }
   ],
   "source": [
    "class Person:\n",
    "    bag = []\n",
    "    \n",
    "    def put_bag(self, item):\n",
    "        self.bag.append(item)\n",
    "\n",
    "carami = Person()\n",
    "carami.put_bag('candy')\n",
    "\n",
    "esther = Person()\n",
    "esther.put_bag('book')\n",
    "\n",
    "print(carami.bag)\n",
    "print(esther.bag)\n",
    "\n",
    "print(Person.bag)"
   ]
  },
  {
   "cell_type": "markdown",
   "metadata": {},
   "source": [
    "### 클래스 상속"
   ]
  },
  {
   "cell_type": "code",
   "execution_count": 23,
   "metadata": {},
   "outputs": [
    {
     "name": "stdout",
     "output_type": "stream",
     "text": [
      "안녕\n"
     ]
    }
   ],
   "source": [
    "class Person:\n",
    "    def hello(self):\n",
    "        print('안녕')\n",
    "\n",
    "class Student(Person):\n",
    "    pass\n",
    "\n",
    "kang = Student()\n",
    "kang.hello()"
   ]
  },
  {
   "cell_type": "code",
   "execution_count": 24,
   "metadata": {},
   "outputs": [
    {
     "name": "stdout",
     "output_type": "stream",
     "text": [
      "안녕\n",
      " 난 학생이야 ^^ \n",
      "공부하다!!\n"
     ]
    }
   ],
   "source": [
    "class Person:\n",
    "    def hello(self):\n",
    "        print('안녕')\n",
    "\n",
    "class Student(Person):\n",
    "    def hello(self):\n",
    "        print('안녕')\n",
    "        print(' 난 학생이야 ^^ ')\n",
    "    def study(self):\n",
    "        print('공부하다!!')\n",
    "\n",
    "kang = Student()\n",
    "kang.hello()\n",
    "kang.study()"
   ]
  },
  {
   "cell_type": "markdown",
   "metadata": {},
   "source": [
    "#### 상속 클래스의 생성자"
   ]
  },
  {
   "cell_type": "code",
   "execution_count": 25,
   "metadata": {},
   "outputs": [
    {
     "name": "stdout",
     "output_type": "stream",
     "text": [
      "person __init__호출\n",
      "Student __init__호출\n",
      "carami\n",
      "person __init__호출\n"
     ]
    }
   ],
   "source": [
    "class Person:\n",
    "    def __init__(self,name):\n",
    "        self.name = name\n",
    "        print('person __init__호출')\n",
    "    def hello(self):\n",
    "        print('안녕')\n",
    "\n",
    "class Student(Person):\n",
    "    def __init__(self,name):\n",
    "        Person.__init__(self,name)\n",
    "        #super().__init__()\n",
    "        print('Student __init__호출')\n",
    "    def hello(self):\n",
    "        super().hello()       \n",
    "        print(' 난 학생이야 ^^ ')\n",
    "    def study(self):\n",
    "        print('공부하다!!')\n",
    "\n",
    "carami = Student('carami')\n",
    "print(carami.name)\n",
    "kim = Person('kim')"
   ]
  },
  {
   "cell_type": "markdown",
   "metadata": {},
   "source": [
    "#### 다중 상속"
   ]
  },
  {
   "cell_type": "code",
   "execution_count": 26,
   "metadata": {},
   "outputs": [
    {
     "name": "stdout",
     "output_type": "stream",
     "text": [
      "hello bbbb~~~~\n",
      "[<class '__main__.D'>, <class '__main__.B'>, <class '__main__.C'>, <class '__main__.A'>, <class 'object'>]\n"
     ]
    }
   ],
   "source": [
    "#다중 상속!! \n",
    "class A:\n",
    "    def hello(self):\n",
    "        print('hello aaaa~~~~')\n",
    "class B:\n",
    "    def hello(self):\n",
    "        print('hello bbbb~~~~')\n",
    "class C(A):\n",
    "    def helloss(self):\n",
    "        print('hello cccc~~~~')\n",
    "class D(B,C):\n",
    "    pass\n",
    "\n",
    "child = D()\n",
    "child.hello()\n",
    "\n",
    "print(D.mro())"
   ]
  },
  {
   "cell_type": "markdown",
   "metadata": {},
   "source": [
    "#### 추상 클래스(Abstract class) , 추상 메소드(Abstract method)"
   ]
  },
  {
   "cell_type": "code",
   "execution_count": 28,
   "metadata": {},
   "outputs": [
    {
     "name": "stdout",
     "output_type": "stream",
     "text": [
      "안녕~~\n",
      "공부하다\n"
     ]
    }
   ],
   "source": [
    "#추상클래스\n",
    "from abc import *\n",
    "\n",
    "class StudentBase(metaclass=ABCMeta):\n",
    "    def hello(self):\n",
    "        print('안녕~~')\n",
    "    @abstractmethod\n",
    "    def study(self): # 추상 메소드\n",
    "        pass\n",
    "    \n",
    "#kim = StudentBase()  추상 클래스는 객체생성이 안된다!!!  \n",
    "\n",
    "class Student(StudentBase):\n",
    "    def study(self):  #상속받은 추상 메서드는 반드시 구현해야한다.\n",
    "        print('공부하다')\n",
    "\n",
    "kim = Student()\n",
    "kim.hello()\n",
    "kim.study()"
   ]
  },
  {
   "cell_type": "code",
   "execution_count": null,
   "metadata": {},
   "outputs": [],
   "source": []
  }
 ],
 "metadata": {
  "kernelspec": {
   "display_name": "Python 3",
   "language": "python",
   "name": "python3"
  },
  "language_info": {
   "codemirror_mode": {
    "name": "ipython",
    "version": 3
   },
   "file_extension": ".py",
   "mimetype": "text/x-python",
   "name": "python",
   "nbconvert_exporter": "python",
   "pygments_lexer": "ipython3",
   "version": "3.7.6"
  }
 },
 "nbformat": 4,
 "nbformat_minor": 4
}
