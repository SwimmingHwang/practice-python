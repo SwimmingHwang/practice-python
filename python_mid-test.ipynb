{
 "cells": [
  {
   "cell_type": "code",
   "execution_count": 1,
   "metadata": {},
   "outputs": [
    {
     "name": "stdout",
     "output_type": "stream",
     "text": [
      "h\n"
     ]
    }
   ],
   "source": [
    "a = 'python'\n",
    "print(a[3])"
   ]
  },
  {
   "cell_type": "code",
   "execution_count": 6,
   "metadata": {},
   "outputs": [],
   "source": [
    "# a[3] = 'i' 안 됨\n",
    "a = a.replace(a[3], 'i')"
   ]
  },
  {
   "cell_type": "code",
   "execution_count": 7,
   "metadata": {},
   "outputs": [
    {
     "data": {
      "text/plain": [
       "'pytion'"
      ]
     },
     "execution_count": 7,
     "metadata": {},
     "output_type": "execute_result"
    }
   ],
   "source": [
    "a"
   ]
  },
  {
   "cell_type": "markdown",
   "metadata": {},
   "source": [
    "#### enumerate 함수\n",
    "- 리스트가 있는 경우 순서와 리스트의 값을 전달하는 기능을 가짐.\n",
    "- 열거하다\n",
    "- 순서가 있는 자료형 (list, tuple ...)을 입력 받아 인덱스를 포함하는 enumerate 객체를 return 함."
   ]
  },
  {
   "cell_type": "code",
   "execution_count": 25,
   "metadata": {},
   "outputs": [],
   "source": [
    "data = enumerate(('a','b','c'))"
   ]
  },
  {
   "cell_type": "code",
   "execution_count": 26,
   "metadata": {},
   "outputs": [
    {
     "name": "stdout",
     "output_type": "stream",
     "text": [
      "<enumerate object at 0x00000277A5DB49A8>\n"
     ]
    }
   ],
   "source": [
    "print(data)"
   ]
  },
  {
   "cell_type": "code",
   "execution_count": 27,
   "metadata": {},
   "outputs": [
    {
     "name": "stdout",
     "output_type": "stream",
     "text": [
      "<class 'enumerate'>\n"
     ]
    }
   ],
   "source": [
    "print(type(data))"
   ]
  },
  {
   "cell_type": "code",
   "execution_count": 28,
   "metadata": {},
   "outputs": [
    {
     "name": "stdout",
     "output_type": "stream",
     "text": [
      "0 : a\n",
      "1 : b\n",
      "2 : c\n"
     ]
    }
   ],
   "source": [
    "for i, val in data:\n",
    "    print(i,':',val)"
   ]
  },
  {
   "cell_type": "code",
   "execution_count": 30,
   "metadata": {},
   "outputs": [
    {
     "name": "stdout",
     "output_type": "stream",
     "text": [
      "0 : 1\n",
      "1 : 5\n",
      "2 : 7\n",
      "3 : 3\n"
     ]
    }
   ],
   "source": [
    "for i, val in enumerate([1,5,7,3]):\n",
    "    print(i,':',val)"
   ]
  },
  {
   "cell_type": "code",
   "execution_count": 37,
   "metadata": {
    "scrolled": true
   },
   "outputs": [
    {
     "name": "stdout",
     "output_type": "stream",
     "text": [
      "100 name : kang\n",
      "101 age : 30\n"
     ]
    }
   ],
   "source": [
    "data = {'name':'kang','age':30}\n",
    "for i, (key,val) in enumerate(data.items(), 100): # 순서 지정 가능\n",
    "    print(i,key,':',val)"
   ]
  },
  {
   "cell_type": "markdown",
   "metadata": {},
   "source": [
    "#### zip()\n",
    "- 동일한 개수로 이루어진 자료형을 묶어 주는 역할을 하는 함수이다."
   ]
  },
  {
   "cell_type": "code",
   "execution_count": 41,
   "metadata": {},
   "outputs": [
    {
     "name": "stdout",
     "output_type": "stream",
     "text": [
      "{1: 'a', 2: 'b', 3: 'c', 4: 'd'}\n",
      "[(1, 'a'), (2, 'b'), (3, 'c'), (4, 'd')]\n"
     ]
    }
   ],
   "source": [
    "number = [1, 2, 3, 4]\n",
    "name = ['a','b','c','d']\n",
    "\n",
    "persons = dict(zip(number, name)) # 딕셔너리로 반환\n",
    "print(persons)\n",
    "persons = list(zip(number, name)) # 리스트로 반환\n",
    "print(persons)"
   ]
  },
  {
   "cell_type": "code",
   "execution_count": 47,
   "metadata": {},
   "outputs": [],
   "source": [
    "import pickle\n",
    "\n",
    "name = 'carami'\n",
    "age = 20\n",
    "address = '서울'\n",
    "score = {'kor':100, 'eng':100,'math':100}\n",
    "\n",
    "with open('test1.txt','wb') as file: # binary 로 write -> 'wb'\n",
    "    pickle.dump(name, file) # name을 file에 쓰다\n",
    "    pickle.dump(age, file) # age을 file에 쓰다\n",
    "    pickle.dump(address, file) # address을 file에 쓰다\n",
    "    pickle.dump(score, file) # score을 file에 쓰다"
   ]
  },
  {
   "cell_type": "code",
   "execution_count": 49,
   "metadata": {},
   "outputs": [
    {
     "name": "stdout",
     "output_type": "stream",
     "text": [
      "carami 20 서울 {'kor': 100, 'eng': 100, 'math': 100}\n"
     ]
    }
   ],
   "source": [
    "with open('test1.txt','rb') as file:\n",
    "    name = pickle.load(file)\n",
    "    age = pickle.load(file)\n",
    "    address = pickle.load(file)\n",
    "    score = pickle.load(file)\n",
    "    print(name, age, address, score)"
   ]
  },
  {
   "cell_type": "code",
   "execution_count": null,
   "metadata": {},
   "outputs": [],
   "source": []
  }
 ],
 "metadata": {
  "kernelspec": {
   "display_name": "Python 3",
   "language": "python",
   "name": "python3"
  },
  "language_info": {
   "codemirror_mode": {
    "name": "ipython",
    "version": 3
   },
   "file_extension": ".py",
   "mimetype": "text/x-python",
   "name": "python",
   "nbconvert_exporter": "python",
   "pygments_lexer": "ipython3",
   "version": "3.7.6"
  }
 },
 "nbformat": 4,
 "nbformat_minor": 4
}
