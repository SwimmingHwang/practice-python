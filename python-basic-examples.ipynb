{
 "cells": [
  {
   "cell_type": "markdown",
   "metadata": {},
   "source": [
    "2020.07.16"
   ]
  },
  {
   "cell_type": "code",
   "execution_count": 14,
   "metadata": {},
   "outputs": [
    {
     "name": "stdout",
     "output_type": "stream",
     "text": [
      "     1.233\n",
      "나의 이름은 kang 입니다\n",
      "나의 나이는 20이고, 이름은 kang입니다.\n"
     ]
    }
   ],
   "source": [
    "# Print 문자열 포맷팅\n",
    "print(format(1.2334, '10.3f'))\n",
    "name = 'kang'\n",
    "print('나의 이름은 %s 입니다' %name)\n",
    "age = 20\n",
    "print('나의 나이는 {}이고, 이름은 {}입니다.'.format(age,name))"
   ]
  },
  {
   "cell_type": "code",
   "execution_count": 12,
   "metadata": {},
   "outputs": [
    {
     "name": "stdout",
     "output_type": "stream",
     "text": [
      "Hello World\n",
      "Mary's cosmetics\n",
      "신씨가 소리질렀다. \"도둑이야\".\n",
      "\"C:\\Windows\"\n",
      "안녕하세요.\n",
      "만나서\t\t반갑습니다.\n",
      "오늘은 일요일\n",
      "naver;kakao;samsung\n",
      "naver/kakao/sk/samsung\n",
      "firstsecond\n",
      "1.6666666666666667\n"
     ]
    }
   ],
   "source": [
    "# 1\n",
    "print('Hello World')\n",
    "\n",
    "# 2 \n",
    "print(\"Mary's cosmetics\")\n",
    "\n",
    "# 3\n",
    "print('신씨가 소리질렀다. \"도둑이야\".')\n",
    "\n",
    "# 4\n",
    "print('\"C:\\\\Windows\"')\n",
    "\n",
    "# 5\n",
    "print(\"안녕하세요.\\n만나서\\t\\t반갑습니다.\")\n",
    "\n",
    "# 6\n",
    "print(\"오늘은\", \"일요일\")\n",
    "\n",
    "# 7\n",
    "print(\"naver\",\"kakao\",\"samsung\",sep=';')\n",
    "\n",
    "# 8\n",
    "print(\"naver\",\"kakao\",\"sk\",\"samsung\", sep=\"/\")\n",
    "\n",
    "# 9\n",
    "print(\"first\",end ='');print(\"second\")\n",
    "\n",
    "# 10\n",
    "print(5/3)\n"
   ]
  },
  {
   "cell_type": "code",
   "execution_count": 19,
   "metadata": {},
   "outputs": [
    {
     "name": "stdout",
     "output_type": "stream",
     "text": [
      "500000\n",
      "--------------------------------------------------\n",
      "298000000000000.0 <class 'float'>\n",
      "5000 <class 'int'>\n",
      "15.79 <class 'float'>\n",
      "--------------------------------------------------\n",
      "hello! python\n",
      "--------------------------------------------------\n",
      "8\n",
      "--------------------------------------------------\n"
     ]
    }
   ],
   "source": [
    "# 11\n",
    "삼성전자 = 50000\n",
    "총평가금액 = 삼성전자 * 10\n",
    "print(총평가금액)\n",
    "print('-'*50)\n",
    "\n",
    "# 12\n",
    "시가총액 = 298e12\n",
    "현재가 = 5000\n",
    "PER = 15.79\n",
    "print(시가총액, type(시가총액))\n",
    "print(현재가, type(현재가))\n",
    "print(PER, type(PER))\n",
    "print('-'*50)\n",
    "\n",
    "# 13\n",
    "s = 'hello'\n",
    "t = 'python'\n",
    "print(s+'! '+t)\n",
    "print('-'*50)\n",
    "\n",
    "# 14\n",
    "print(2+2*3)\n",
    "print('-'*50)\n",
    "\n"
   ]
  },
  {
   "cell_type": "code",
   "execution_count": 31,
   "metadata": {},
   "outputs": [
    {
     "name": "stdout",
     "output_type": "stream",
     "text": [
      "2210\n",
      "--------------------------------------------------\n",
      "NOHTYP\n",
      "--------------------------------------------------\n",
      "01011112222\n",
      "--------------------------------------------------\n",
      "--------------------------------------------------\n"
     ]
    }
   ],
   "source": [
    "# 22\n",
    "license_plate = \"24가 2210\"\n",
    "print(license_plate[-4:])\n",
    "print('-'*50)\n",
    "\n",
    "# 24\n",
    "string = \"PYTHON\"\n",
    "print(string[::-1]) # NOHTYP\n",
    "print('-'*50)\n",
    "\n",
    "# 25\n",
    "phone_number = \"010-1111-2222\"\n",
    "replace_phone_number = phone_number.replace('-',' ')\n",
    "print(replace_phone_number)\n",
    "print('-'*50)\n",
    "\n",
    "#\n",
    "print('-'*50)\n"
   ]
  },
  {
   "cell_type": "markdown",
   "metadata": {},
   "source": [
    "mutable  변경가능 한 객체 - list, dictionary   \n",
    "immutable 변경불가능한 객체 - int, string, tuple"
   ]
  },
  {
   "cell_type": "code",
   "execution_count": 34,
   "metadata": {},
   "outputs": [
    {
     "name": "stdout",
     "output_type": "stream",
     "text": [
      "abcd\n",
      "--------------------------------------------------\n"
     ]
    }
   ],
   "source": [
    "# 30\n",
    "string = 'abcd'\n",
    "string.replace('b','B')\n",
    "print(string)\n",
    "print('-'*50)\n",
    "# abcd가 그대로 출력됩니다. 왜냐하면 문자열은 변경할 수 없는 자료형이기 때문입니다. replace 메서드를 사용하면 원본은 그대로 둔채로 변경된 새로운 문자열 객체를 리턴해줍니다."
   ]
  },
  {
   "cell_type": "code",
   "execution_count": 45,
   "metadata": {},
   "outputs": [
    {
     "name": "stdout",
     "output_type": "stream",
     "text": [
      "이름: 김민수 나이: 10\n",
      "이름: 이철희 나이: 13\n",
      "--------------------------------------------------\n",
      "이름: 김민수 나이: 10\n",
      "이름: 이철희 나이: 13\n",
      "--------------------------------------------------\n",
      "이름: 김민수 나이: 10\n",
      "이름: 이철희 나이: 13\n",
      "--------------------------------------------------\n",
      "2020/03\n",
      "--------------------------------------------------\n",
      "삼성전자\n",
      "--------------------------------------------------\n"
     ]
    }
   ],
   "source": [
    "# 35\n",
    "name1 = \"김민수\" \n",
    "age1 = 10\n",
    "name2 = \"이철희\"\n",
    "age2 = 13\n",
    "print(\"이름: %s 나이: %d\" % (name1, age1))\n",
    "print(\"이름: %s 나이: %d\" % (name2, age2))\n",
    "print('-'*50)\n",
    "\n",
    "# 36\n",
    "print(\"이름: {} 나이: {}\".format (name1, age1))\n",
    "print(\"이름: {} 나이: {}\".format (name2, age2))\n",
    "print('-'*50)\n",
    "\n",
    "# 37 - f-string\n",
    "print(f'이름: {name1} 나이: {age1}')\n",
    "print(f'이름: {name2} 나이: {age2}')\n",
    "print('-'*50)\n",
    "\n",
    "# 39\n",
    "분기 = \"2020/03(E) (IFRS연결)\"\n",
    "print(분기[:7])\n",
    "print('-'*50)\n",
    "\n",
    "# 40 - strip 메서드\n",
    "data = \"   삼성전자    \"\n",
    "data = data.strip()\n",
    "print(data)\n",
    "print('-'*50)\n"
   ]
  },
  {
   "cell_type": "code",
   "execution_count": 62,
   "metadata": {
    "scrolled": true
   },
   "outputs": [
    {
     "name": "stdout",
     "output_type": "stream",
     "text": [
      "BTC_KRW\n",
      "--------------------------------------------------\n",
      "btc_krw\n",
      "--------------------------------------------------\n",
      "Hello\n",
      "--------------------------------------------------\n",
      "True\n",
      "--------------------------------------------------\n",
      "['2020', '05', '01']\n",
      "--------------------------------------------------\n",
      "039490\n",
      "--------------------------------------------------\n"
     ]
    }
   ],
   "source": [
    "# 41\n",
    "ticker = \"btc_krw\"\n",
    "ticker1 = ticker.upper()\n",
    "print(ticker1)\n",
    "print('-'*50)\n",
    "\n",
    "# 42\n",
    "ticker = \"BTC_KRW\"\n",
    "ticker = ticker.lower()\n",
    "print(ticker)\n",
    "print('-'*50)\n",
    "\n",
    "# 43\n",
    "a = \"hello\"\n",
    "a = a.capitalize()\n",
    "print(a)\n",
    "print('-'*50)\n",
    "\n",
    "# 44\n",
    "file_name = \"보고서.xlsx\"\n",
    "print(file_name.endswith(('.xlsx','.xls')))\n",
    "print('-'*50)\n",
    "\n",
    "# 49\n",
    "date = \"2020-05-01\"\n",
    "print(date.split(\"-\"))\n",
    "print('-'*50)\n",
    "\n",
    "# 50\n",
    "data = \"039490     \"\n",
    "print(data.rstrip())\n",
    "print('-'*50)\n"
   ]
  },
  {
   "cell_type": "code",
   "execution_count": 61,
   "metadata": {},
   "outputs": [
    {
     "name": "stdout",
     "output_type": "stream",
     "text": [
      "--------------------------------------------------\n",
      "--------------------------------------------------\n",
      "--------------------------------------------------\n",
      "--------------------------------------------------\n",
      "--------------------------------------------------\n",
      "--------------------------------------------------\n",
      "--------------------------------------------------\n"
     ]
    }
   ],
   "source": [
    "#\n",
    "print('-'*50)\n",
    "#\n",
    "print('-'*50)\n",
    "#\n",
    "print('-'*50)\n",
    "#\n",
    "print('-'*50)\n",
    "#\n",
    "print('-'*50)\n",
    "#\n",
    "print('-'*50)\n",
    "#\n",
    "print('-'*50)\n"
   ]
  },
  {
   "cell_type": "code",
   "execution_count": null,
   "metadata": {},
   "outputs": [],
   "source": []
  }
 ],
 "metadata": {
  "kernelspec": {
   "display_name": "Python 3",
   "language": "python",
   "name": "python3"
  },
  "language_info": {
   "codemirror_mode": {
    "name": "ipython",
    "version": 3
   },
   "file_extension": ".py",
   "mimetype": "text/x-python",
   "name": "python",
   "nbconvert_exporter": "python",
   "pygments_lexer": "ipython3",
   "version": "3.7.6"
  }
 },
 "nbformat": 4,
 "nbformat_minor": 4
}
