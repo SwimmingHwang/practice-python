{
 "cells": [
  {
   "cell_type": "code",
   "execution_count": 14,
   "metadata": {},
   "outputs": [
    {
     "name": "stdout",
     "output_type": "stream",
     "text": [
      "     1.233\n",
      "나의 이름은 kang 입니다\n",
      "나의 나이는 20이고, 이름은 kang입니다.\n"
     ]
    }
   ],
   "source": [
    "# Print 문자열 포맷팅\n",
    "print(format(1.2334, '10.3f'))\n",
    "name = 'kang'\n",
    "print('나의 이름은 %s 입니다' %name)\n",
    "age = 20\n",
    "print('나의 나이는 {}이고, 이름은 {}입니다.'.format(age,name))"
   ]
  },
  {
   "cell_type": "code",
   "execution_count": 12,
   "metadata": {},
   "outputs": [
    {
     "name": "stdout",
     "output_type": "stream",
     "text": [
      "Hello World\n",
      "Mary's cosmetics\n",
      "신씨가 소리질렀다. \"도둑이야\".\n",
      "\"C:\\Windows\"\n",
      "안녕하세요.\n",
      "만나서\t\t반갑습니다.\n",
      "오늘은 일요일\n",
      "naver;kakao;samsung\n",
      "naver/kakao/sk/samsung\n",
      "firstsecond\n",
      "1.6666666666666667\n"
     ]
    }
   ],
   "source": [
    "# 1\n",
    "print('Hello World')\n",
    "\n",
    "# 2 \n",
    "print(\"Mary's cosmetics\")\n",
    "\n",
    "# 3\n",
    "print('신씨가 소리질렀다. \"도둑이야\".')\n",
    "\n",
    "# 4\n",
    "print('\"C:\\\\Windows\"')\n",
    "\n",
    "# 5\n",
    "print(\"안녕하세요.\\n만나서\\t\\t반갑습니다.\")\n",
    "\n",
    "# 6\n",
    "print(\"오늘은\", \"일요일\")\n",
    "\n",
    "# 7\n",
    "print(\"naver\",\"kakao\",\"samsung\",sep=';')\n",
    "\n",
    "# 8\n",
    "print(\"naver\",\"kakao\",\"sk\",\"samsung\", sep=\"/\")\n",
    "\n",
    "# 9\n",
    "print(\"first\",end ='');print(\"second\")\n",
    "\n",
    "# 10\n",
    "print(5/3)\n"
   ]
  },
  {
   "cell_type": "code",
   "execution_count": 19,
   "metadata": {},
   "outputs": [
    {
     "name": "stdout",
     "output_type": "stream",
     "text": [
      "500000\n",
      "--------------------------------------------------\n",
      "298000000000000.0 <class 'float'>\n",
      "5000 <class 'int'>\n",
      "15.79 <class 'float'>\n",
      "--------------------------------------------------\n",
      "hello! python\n",
      "--------------------------------------------------\n",
      "8\n",
      "--------------------------------------------------\n"
     ]
    }
   ],
   "source": [
    "# 11\n",
    "삼성전자 = 50000\n",
    "총평가금액 = 삼성전자 * 10\n",
    "print(총평가금액)\n",
    "print('-'*50)\n",
    "\n",
    "# 12\n",
    "시가총액 = 298e12\n",
    "현재가 = 5000\n",
    "PER = 15.79\n",
    "print(시가총액, type(시가총액))\n",
    "print(현재가, type(현재가))\n",
    "print(PER, type(PER))\n",
    "print('-'*50)\n",
    "\n",
    "# 13\n",
    "s = 'hello'\n",
    "t = 'python'\n",
    "print(s+'! '+t)\n",
    "print('-'*50)\n",
    "\n",
    "# 14\n",
    "print(2+2*3)\n",
    "print('-'*50)\n",
    "\n"
   ]
  },
  {
   "cell_type": "code",
   "execution_count": null,
   "metadata": {},
   "outputs": [],
   "source": []
  }
 ],
 "metadata": {
  "kernelspec": {
   "display_name": "Python 3",
   "language": "python",
   "name": "python3"
  },
  "language_info": {
   "codemirror_mode": {
    "name": "ipython",
    "version": 3
   },
   "file_extension": ".py",
   "mimetype": "text/x-python",
   "name": "python",
   "nbconvert_exporter": "python",
   "pygments_lexer": "ipython3",
   "version": "3.7.6"
  }
 },
 "nbformat": 4,
 "nbformat_minor": 4
}
