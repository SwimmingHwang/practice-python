{
 "cells": [
  {
   "cell_type": "markdown",
   "metadata": {},
   "source": [
    "### 리스트 간결하게 출력하기"
   ]
  },
  {
   "cell_type": "code",
   "execution_count": 2,
   "metadata": {
    "scrolled": true
   },
   "outputs": [
    {
     "name": "stdout",
     "output_type": "stream",
     "text": [
      "[[1, 2, 3], [4, 5], [6, 7, 8, 9]]\n",
      "--------------------------------------------------\n",
      "[1, 2, 3] [4, 5] [6, 7, 8, 9]\n",
      "--------------------------------------------------\n",
      "[1, 2, 3]\n",
      "[4, 5]\n",
      "[6, 7, 8, 9]\n"
     ]
    }
   ],
   "source": [
    "import pprint\n",
    "\n",
    "numbers = [[1, 2, 3], [4, 5], [6, 7, 8, 9]]\n",
    "print(numbers)\n",
    "print('-'*50)\n",
    "print(*numbers)\n",
    "print('-'*50)\n",
    "print(*numbers, sep='\\n')\n"
   ]
  },
  {
   "cell_type": "code",
   "execution_count": 4,
   "metadata": {},
   "outputs": [
    {
     "name": "stdout",
     "output_type": "stream",
     "text": [
      "** pprint **\n",
      "[[1, 2, 3], [4, 5], [6, 7, 8, 9]]\n",
      "--------------------------------------------------\n",
      "[[1, 2, 3],\n",
      " [4, 5],\n",
      " [6, 7, 8, 9]]\n",
      "--------------------------------------------------\n",
      "[   [1, 2, 3],\n",
      "    [4, 5],\n",
      "    [6, 7, 8, 9]]\n"
     ]
    }
   ],
   "source": [
    "print('** pprint **')\n",
    "pprint.pprint(numbers)\n",
    "print('-'*50)\n",
    "pprint.pprint(numbers, width=20)\n",
    "print('-'*50)\n",
    "pprint.pprint(numbers, width=20, indent=4)\n"
   ]
  },
  {
   "cell_type": "code",
   "execution_count": 5,
   "metadata": {},
   "outputs": [
    {
     "name": "stdout",
     "output_type": "stream",
     "text": [
      "** pprint.PrettyPrinter **\n",
      "[   [1, 2, 3],\n",
      "    [4, 5],\n",
      "    [6, 7, 8, 9]]\n"
     ]
    }
   ],
   "source": [
    "print('** pprint.PrettyPrinter **')\n",
    "pp = pprint.PrettyPrinter(width=20, indent=4)\n",
    "pp.pprint(numbers)\n",
    "\n"
   ]
  },
  {
   "cell_type": "markdown",
   "metadata": {},
   "source": [
    "### 딕셔너리 출력하기"
   ]
  },
  {
   "cell_type": "code",
   "execution_count": 7,
   "metadata": {},
   "outputs": [
    {
     "name": "stdout",
     "output_type": "stream",
     "text": [
      "{'name': 'kim', 'age': 20, 'addr': 'yongin'}\n",
      "--------------------------------------------------\n",
      "name age addr\n"
     ]
    }
   ],
   "source": [
    "import pprint\n",
    "\n",
    "info = dict(name='kim', age=20, addr='yongin')\n",
    "\n",
    "print(info)\n",
    "print('-'*50)\n",
    "print(*info)\n"
   ]
  },
  {
   "cell_type": "code",
   "execution_count": 18,
   "metadata": {},
   "outputs": [
    {
     "name": "stdout",
     "output_type": "stream",
     "text": [
      "** pprint **\n",
      "['name', 'age', 'addr']\n",
      "--------------------------------------------------\n",
      "[('name', 'kim'), ('age', 20), ('addr', 'yongin')]\n",
      "--------------------------------------------------\n",
      "('name', 'kim') ('age', 20) ('addr', 'yongin')\n"
     ]
    }
   ],
   "source": [
    "print('** pprint **')\n",
    "print([k for k in info])\n",
    "print('-'*50)\n",
    "print([(k, val) for (k, val) in info.items()])\n",
    "print('-'*50)\n",
    "print(*[(k, val) for (k, val) in info.items()])"
   ]
  },
  {
   "cell_type": "code",
   "execution_count": 19,
   "metadata": {
    "scrolled": true
   },
   "outputs": [
    {
     "name": "stdout",
     "output_type": "stream",
     "text": [
      "('name', 'kim')\n",
      "('age', 20)\n",
      "('addr', 'yongin')\n",
      "--------------------------------------------------\n",
      "name:kim\n",
      "age:20\n",
      "addr:yongin\n"
     ]
    }
   ],
   "source": [
    "print(*[(k, info[k]) for k in info], sep='\\n')\n",
    "print('-'*50)\n",
    "print(*['{}:{}'.format(k,v) for k,v in info.items()], sep='\\n')"
   ]
  },
  {
   "cell_type": "code",
   "execution_count": 20,
   "metadata": {},
   "outputs": [
    {
     "name": "stdout",
     "output_type": "stream",
     "text": [
      "** pprint.PrettyPrinter **\n",
      "{   'addr': 'yongin',\n",
      "    'age': 20,\n",
      "    'name': 'kim'}\n"
     ]
    }
   ],
   "source": [
    "print('** pprint.PrettyPrinter **')\n",
    "pp = pprint.PrettyPrinter(width=20, indent=4)\n",
    "pp.pprint(info)"
   ]
  },
  {
   "cell_type": "code",
   "execution_count": null,
   "metadata": {},
   "outputs": [],
   "source": []
  }
 ],
 "metadata": {
  "kernelspec": {
   "display_name": "Python 3",
   "language": "python",
   "name": "python3"
  },
  "language_info": {
   "codemirror_mode": {
    "name": "ipython",
    "version": 3
   },
   "file_extension": ".py",
   "mimetype": "text/x-python",
   "name": "python",
   "nbconvert_exporter": "python",
   "pygments_lexer": "ipython3",
   "version": "3.7.6"
  }
 },
 "nbformat": 4,
 "nbformat_minor": 4
}
