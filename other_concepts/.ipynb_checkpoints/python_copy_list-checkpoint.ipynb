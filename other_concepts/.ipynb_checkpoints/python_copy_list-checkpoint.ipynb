{
 "cells": [
  {
   "cell_type": "markdown",
   "metadata": {},
   "source": [
    "2020.07.23"
   ]
  },
  {
   "cell_type": "code",
   "execution_count": 2,
   "metadata": {},
   "outputs": [
    {
     "name": "stdout",
     "output_type": "stream",
     "text": [
      "['kang', 'hong', 'kim']\n",
      "3\n",
      "kim\n"
     ]
    }
   ],
   "source": [
    "names = ['kang', 'hong', 'kim']\n",
    "print(names)\n",
    "print(len(names))\n",
    "print(names[2])"
   ]
  },
  {
   "cell_type": "code",
   "execution_count": 3,
   "metadata": {
    "scrolled": true
   },
   "outputs": [
    {
     "name": "stdout",
     "output_type": "stream",
     "text": [
      "['lee', 'hong', 'kim']\n"
     ]
    }
   ],
   "source": [
    "student_names = names\n",
    "student_names[0] = 'lee'\n",
    "print(names)"
   ]
  },
  {
   "cell_type": "markdown",
   "metadata": {},
   "source": [
    "- mutable한 리스트, 딕셔너리    \n",
    "    -> deepcopy를 이용해 같은 객체를 공유 하지 않도록 사용\n",
    "- immutable한 숫자형, 문자열(string), 튜플"
   ]
  },
  {
   "cell_type": "code",
   "execution_count": 4,
   "metadata": {},
   "outputs": [
    {
     "name": "stdout",
     "output_type": "stream",
     "text": [
      "10 20\n"
     ]
    }
   ],
   "source": [
    "a = 10\n",
    "b = a\n",
    "b = 20\n",
    "print(a,b)"
   ]
  },
  {
   "cell_type": "code",
   "execution_count": 6,
   "metadata": {
    "scrolled": true
   },
   "outputs": [
    {
     "name": "stdout",
     "output_type": "stream",
     "text": [
      "10\n",
      "20\n",
      "10\n"
     ]
    }
   ],
   "source": [
    "def my_fun(a): # 값이 복사됨\n",
    "    a += 10\n",
    "    print(a)\n",
    "    \n",
    "print(a)\n",
    "my_fun(a)\n",
    "print(a)"
   ]
  },
  {
   "cell_type": "code",
   "execution_count": 9,
   "metadata": {},
   "outputs": [
    {
     "name": "stdout",
     "output_type": "stream",
     "text": [
      "10\n",
      "20\n",
      "20\n"
     ]
    }
   ],
   "source": [
    "a =[10]\n",
    "def my_fun(a): # 주소가 복사됨\n",
    "    a[0] += 10\n",
    "    print(a[0])\n",
    "    \n",
    "print(a[0])\n",
    "my_fun(a)\n",
    "print(a[0])"
   ]
  },
  {
   "cell_type": "code",
   "execution_count": 10,
   "metadata": {},
   "outputs": [
    {
     "name": "stdout",
     "output_type": "stream",
     "text": [
      "True\n",
      "1630088007432 1630088007432\n"
     ]
    }
   ],
   "source": [
    "names = ['kang', 'hong','hwang']\n",
    "student_names = names\n",
    "student_names[0] = 'lee'\n",
    "print(names is student_names)\n",
    "print(id(names), id(student_names))"
   ]
  },
  {
   "cell_type": "code",
   "execution_count": 11,
   "metadata": {},
   "outputs": [
    {
     "name": "stdout",
     "output_type": "stream",
     "text": [
      "1630088562440 1630088159304 1630087741832\n"
     ]
    }
   ],
   "source": [
    "a = [1,2,3]\n",
    "b = [4,5,6]\n",
    "c = a+b\n",
    "print(id(a), id(b), id(c))"
   ]
  },
  {
   "cell_type": "code",
   "execution_count": 14,
   "metadata": {},
   "outputs": [
    {
     "name": "stdout",
     "output_type": "stream",
     "text": [
      "[[500, 1000], [30, 40], [50, 60]]\n",
      "[[500, 20], [30, 40], [50, 60]]\n",
      "1630088516168\n",
      "1630088501768\n"
     ]
    }
   ],
   "source": [
    "import copy\n",
    "\n",
    "lista = [[500, 20],[30,40],[50,60]]\n",
    "listb = copy.deepcopy(lista)\n",
    "listb[0][1] = 1000\n",
    "print(listb)\n",
    "print(lista)\n",
    "print(id(lista))\n",
    "print(id(listb))"
   ]
  },
  {
   "cell_type": "code",
   "execution_count": null,
   "metadata": {},
   "outputs": [],
   "source": []
  }
 ],
 "metadata": {
  "kernelspec": {
   "display_name": "Python 3",
   "language": "python",
   "name": "python3"
  },
  "language_info": {
   "codemirror_mode": {
    "name": "ipython",
    "version": 3
   },
   "file_extension": ".py",
   "mimetype": "text/x-python",
   "name": "python",
   "nbconvert_exporter": "python",
   "pygments_lexer": "ipython3",
   "version": "3.7.6"
  }
 },
 "nbformat": 4,
 "nbformat_minor": 4
}
