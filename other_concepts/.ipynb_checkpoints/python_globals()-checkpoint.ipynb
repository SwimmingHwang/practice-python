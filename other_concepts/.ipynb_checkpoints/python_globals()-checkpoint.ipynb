{
 "cells": [
  {
   "cell_type": "markdown",
   "metadata": {},
   "source": [
    "2020.07.23"
   ]
  },
  {
   "cell_type": "code",
   "execution_count": null,
   "metadata": {},
   "outputs": [],
   "source": []
  },
  {
   "cell_type": "markdown",
   "metadata": {},
   "source": [
    "`globals()`의 return 값은 dictionary 의 형태임."
   ]
  },
  {
   "cell_type": "code",
   "execution_count": 3,
   "metadata": {},
   "outputs": [
    {
     "data": {
      "text/plain": [
       "100"
      ]
     },
     "execution_count": 3,
     "metadata": {},
     "output_type": "execute_result"
    }
   ],
   "source": [
    "value = 100\n",
    "globals()['value']"
   ]
  },
  {
   "cell_type": "code",
   "execution_count": 4,
   "metadata": {},
   "outputs": [
    {
     "data": {
      "text/plain": [
       "{'__name__': '__main__',\n",
       " '__doc__': 'Automatically created module for IPython interactive environment',\n",
       " '__package__': None,\n",
       " '__loader__': None,\n",
       " '__spec__': None,\n",
       " '__builtin__': <module 'builtins' (built-in)>,\n",
       " '__builtins__': <module 'builtins' (built-in)>,\n",
       " '_ih': ['',\n",
       "  \"value = 100\\nglobals()['value']\",\n",
       "  'globals()',\n",
       "  \"value = 100\\nglobals()['value']\",\n",
       "  'globals()'],\n",
       " '_oh': {1: 100, 2: {...}, 3: 100},\n",
       " '_dh': ['C:\\\\Users\\\\student\\\\python-study'],\n",
       " 'In': ['',\n",
       "  \"value = 100\\nglobals()['value']\",\n",
       "  'globals()',\n",
       "  \"value = 100\\nglobals()['value']\",\n",
       "  'globals()'],\n",
       " 'Out': {1: 100, 2: {...}, 3: 100},\n",
       " 'get_ipython': <bound method InteractiveShell.get_ipython of <ipykernel.zmqshell.ZMQInteractiveShell object at 0x000001AC40251E08>>,\n",
       " 'exit': <IPython.core.autocall.ZMQExitAutocall at 0x1ac42173b08>,\n",
       " 'quit': <IPython.core.autocall.ZMQExitAutocall at 0x1ac42173b08>,\n",
       " '_': 100,\n",
       " '__': {...},\n",
       " '___': 100,\n",
       " '_i': \"value = 100\\nglobals()['value']\",\n",
       " '_ii': 'globals()',\n",
       " '_iii': \"value = 100\\nglobals()['value']\",\n",
       " '_i1': \"value = 100\\nglobals()['value']\",\n",
       " 'value': 100,\n",
       " '_1': 100,\n",
       " '_i2': 'globals()',\n",
       " '_2': {...},\n",
       " '_i3': \"value = 100\\nglobals()['value']\",\n",
       " '_3': 100,\n",
       " '_i4': 'globals()'}"
      ]
     },
     "execution_count": 4,
     "metadata": {},
     "output_type": "execute_result"
    }
   ],
   "source": [
    "globals()"
   ]
  },
  {
   "cell_type": "code",
   "execution_count": 6,
   "metadata": {},
   "outputs": [
    {
     "name": "stdout",
     "output_type": "stream",
     "text": [
      "<function func at 0x000001AC43472A68>\n",
      "(3, 5)\n"
     ]
    }
   ],
   "source": [
    "def func(x, y):\n",
    "    return x,y\n",
    "\n",
    "print(globals()['func'])\n",
    "print(globals()['func'](3,5))    "
   ]
  },
  {
   "cell_type": "code",
   "execution_count": 16,
   "metadata": {},
   "outputs": [
    {
     "ename": "TypeError",
     "evalue": "format() argument after ** must be a mapping, not int",
     "output_type": "error",
     "traceback": [
      "\u001b[1;31m---------------------------------------------------------------------------\u001b[0m",
      "\u001b[1;31mTypeError\u001b[0m                                 Traceback (most recent call last)",
      "\u001b[1;32m<ipython-input-16-c34bb5181d9e>\u001b[0m in \u001b[0;36m<module>\u001b[1;34m\u001b[0m\n\u001b[1;32m----> 1\u001b[1;33m \u001b[0mprint\u001b[0m\u001b[1;33m(\u001b[0m\u001b[1;34m'{value}'\u001b[0m\u001b[1;33m.\u001b[0m\u001b[0mformat\u001b[0m\u001b[1;33m(\u001b[0m\u001b[1;33m**\u001b[0m\u001b[0mglobals\u001b[0m\u001b[1;33m(\u001b[0m\u001b[1;33m)\u001b[0m\u001b[1;33m[\u001b[0m\u001b[1;34m'value'\u001b[0m\u001b[1;33m]\u001b[0m\u001b[1;33m)\u001b[0m\u001b[1;33m)\u001b[0m\u001b[1;33m\u001b[0m\u001b[1;33m\u001b[0m\u001b[0m\n\u001b[0m",
      "\u001b[1;31mTypeError\u001b[0m: format() argument after ** must be a mapping, not int"
     ]
    }
   ],
   "source": [
    "print('{value}'.format(**globals()['value']))"
   ]
  },
  {
   "cell_type": "code",
   "execution_count": 24,
   "metadata": {},
   "outputs": [
    {
     "name": "stdout",
     "output_type": "stream",
     "text": [
      "<class '__main__.Book'>\n",
      "locals(): {'self': <__main__.Book object at 0x000001AC43171C48>, 'name': '철저입문'}\n"
     ]
    },
    {
     "data": {
      "text/plain": [
       "{'name': '철저입문'}"
      ]
     },
     "execution_count": 24,
     "metadata": {},
     "output_type": "execute_result"
    }
   ],
   "source": [
    "class Book:\n",
    "    def __init__(self, name):\n",
    "        self.name = name\n",
    "        print('locals():' ,locals())\n",
    "print(globals()['Book'])\n",
    "python = globals()['Book']('철저입문')\n",
    "python.__dict__"
   ]
  },
  {
   "cell_type": "markdown",
   "metadata": {},
   "source": [
    "### 시험 문제"
   ]
  },
  {
   "cell_type": "code",
   "execution_count": 30,
   "metadata": {},
   "outputs": [
    {
     "name": "stdout",
     "output_type": "stream",
     "text": [
      "apple is red\n"
     ]
    }
   ],
   "source": [
    "item = 'apple'\n",
    "color ='red'\n",
    "\n",
    "print('{0[item]} is {0[color]}'.format(globals()))"
   ]
  },
  {
   "cell_type": "code",
   "execution_count": 32,
   "metadata": {},
   "outputs": [
    {
     "name": "stdout",
     "output_type": "stream",
     "text": [
      "apple is red\n"
     ]
    }
   ],
   "source": [
    "print('{item} is {color}'.format(**locals()))"
   ]
  },
  {
   "cell_type": "code",
   "execution_count": 34,
   "metadata": {},
   "outputs": [
    {
     "data": {
      "text/plain": [
       "{'__name__': '__main__',\n",
       " '__doc__': 'Automatically created module for IPython interactive environment',\n",
       " '__package__': None,\n",
       " '__loader__': None,\n",
       " '__spec__': None,\n",
       " '__builtin__': <module 'builtins' (built-in)>,\n",
       " '__builtins__': <module 'builtins' (built-in)>,\n",
       " '_ih': ['',\n",
       "  \"value = 100\\nglobals()['value']\",\n",
       "  'globals()',\n",
       "  \"value = 100\\nglobals()['value']\",\n",
       "  'globals()',\n",
       "  \"def func(x, y):\\n    return x,y\\n\\nprint(globals()['func'])\\n    \",\n",
       "  \"def func(x, y):\\n    return x,y\\n\\nprint(globals()['func'])\\nprint(globals()['func'](3,5))    \",\n",
       "  '**globals()',\n",
       "  'print(**globals())',\n",
       "  \"print('{}',**globals())\",\n",
       "  \"print('{},{},{},{}',**globals())\",\n",
       "  \"print('{},{},{},{}'.format(**globals()))\",\n",
       "  \"print('{},{},{},{}'.format(**globals()[0]))\",\n",
       "  \"print('{},{},{},{}'.format(**globals()['func']))\",\n",
       "  \"print('{0},{0},{0},{0}'.format(**globals()['func']))\",\n",
       "  \"print('{value},{0},{0},{0}'.format(**globals()['func']))\",\n",
       "  \"print('{value}'.format(**globals()['value']))\",\n",
       "  'pyton = globals()',\n",
       "  'python.__dict__',\n",
       "  'python = globals()',\n",
       "  'python.__dict__',\n",
       "  \"class Book:\\n    def __init__(self, name):\\n        self.name = name\\nprint(globals()['Book'])\\npython = globals()['Book']('철저입문')\\npython.__dict__\",\n",
       "  \"class Book:\\n    def __init__(self, name):\\n        self.name = name\\nprint(globals()['Book'])\\npython = globals()['Book']('철저입문')\\npython.__dict__\",\n",
       "  \"class Book:\\n    def __init__(self, name):\\n        self.name = name\\n        print(locals())\\nprint(globals()['Book'])\\npython = globals()['Book']('철저입문')\\npython.__dict__\",\n",
       "  \"class Book:\\n    def __init__(self, name):\\n        self.name = name\\n        print('locals():' ,locals())\\nprint(globals()['Book'])\\npython = globals()['Book']('철저입문')\\npython.__dict__\",\n",
       "  \"item = 'apple'\\ncolor ='red'\\nprint('{0}[item] is {0[color]}'.format(globals()))\",\n",
       "  \"item = 'apple'\\ncolor ='red'\\nprint('{0}[item] is {0[color]}'.format(**globals()))\",\n",
       "  \"item = 'apple'\\ncolor ='red'\\nprint('{0}[item] is {0[color]}'.format(globals()))\",\n",
       "  \"item = 'apple'\\ncolor ='red'\\n\\nprint('{0}[item] is {0[color]}'.format(**globals()))\",\n",
       "  'item = \\'apple\\'\\ncolor =\\'red\\'\\n\\nprint(\\'{0}[\"item\"] is {0[\"color\"]}\\'.format(globals()))',\n",
       "  \"item = 'apple'\\ncolor ='red'\\n\\nprint('{0[item]} is {0[color]}'.format(globals()))\",\n",
       "  \"print('{item} is {color}'.format(**locals()))\",\n",
       "  \"print('{item} is {color}'.format(**locals()))\",\n",
       "  '**locals()',\n",
       "  'locals()'],\n",
       " '_oh': {1: 100,\n",
       "  2: {...},\n",
       "  3: 100,\n",
       "  4: {...},\n",
       "  21: {'name': '철저입문'},\n",
       "  22: {'name': '철저입문'},\n",
       "  23: {'name': '철저입문'},\n",
       "  24: {'name': '철저입문'}},\n",
       " '_dh': ['C:\\\\Users\\\\student\\\\python-study'],\n",
       " 'In': ['',\n",
       "  \"value = 100\\nglobals()['value']\",\n",
       "  'globals()',\n",
       "  \"value = 100\\nglobals()['value']\",\n",
       "  'globals()',\n",
       "  \"def func(x, y):\\n    return x,y\\n\\nprint(globals()['func'])\\n    \",\n",
       "  \"def func(x, y):\\n    return x,y\\n\\nprint(globals()['func'])\\nprint(globals()['func'](3,5))    \",\n",
       "  '**globals()',\n",
       "  'print(**globals())',\n",
       "  \"print('{}',**globals())\",\n",
       "  \"print('{},{},{},{}',**globals())\",\n",
       "  \"print('{},{},{},{}'.format(**globals()))\",\n",
       "  \"print('{},{},{},{}'.format(**globals()[0]))\",\n",
       "  \"print('{},{},{},{}'.format(**globals()['func']))\",\n",
       "  \"print('{0},{0},{0},{0}'.format(**globals()['func']))\",\n",
       "  \"print('{value},{0},{0},{0}'.format(**globals()['func']))\",\n",
       "  \"print('{value}'.format(**globals()['value']))\",\n",
       "  'pyton = globals()',\n",
       "  'python.__dict__',\n",
       "  'python = globals()',\n",
       "  'python.__dict__',\n",
       "  \"class Book:\\n    def __init__(self, name):\\n        self.name = name\\nprint(globals()['Book'])\\npython = globals()['Book']('철저입문')\\npython.__dict__\",\n",
       "  \"class Book:\\n    def __init__(self, name):\\n        self.name = name\\nprint(globals()['Book'])\\npython = globals()['Book']('철저입문')\\npython.__dict__\",\n",
       "  \"class Book:\\n    def __init__(self, name):\\n        self.name = name\\n        print(locals())\\nprint(globals()['Book'])\\npython = globals()['Book']('철저입문')\\npython.__dict__\",\n",
       "  \"class Book:\\n    def __init__(self, name):\\n        self.name = name\\n        print('locals():' ,locals())\\nprint(globals()['Book'])\\npython = globals()['Book']('철저입문')\\npython.__dict__\",\n",
       "  \"item = 'apple'\\ncolor ='red'\\nprint('{0}[item] is {0[color]}'.format(globals()))\",\n",
       "  \"item = 'apple'\\ncolor ='red'\\nprint('{0}[item] is {0[color]}'.format(**globals()))\",\n",
       "  \"item = 'apple'\\ncolor ='red'\\nprint('{0}[item] is {0[color]}'.format(globals()))\",\n",
       "  \"item = 'apple'\\ncolor ='red'\\n\\nprint('{0}[item] is {0[color]}'.format(**globals()))\",\n",
       "  'item = \\'apple\\'\\ncolor =\\'red\\'\\n\\nprint(\\'{0}[\"item\"] is {0[\"color\"]}\\'.format(globals()))',\n",
       "  \"item = 'apple'\\ncolor ='red'\\n\\nprint('{0[item]} is {0[color]}'.format(globals()))\",\n",
       "  \"print('{item} is {color}'.format(**locals()))\",\n",
       "  \"print('{item} is {color}'.format(**locals()))\",\n",
       "  '**locals()',\n",
       "  'locals()'],\n",
       " 'Out': {1: 100,\n",
       "  2: {...},\n",
       "  3: 100,\n",
       "  4: {...},\n",
       "  21: {'name': '철저입문'},\n",
       "  22: {'name': '철저입문'},\n",
       "  23: {'name': '철저입문'},\n",
       "  24: {'name': '철저입문'}},\n",
       " 'get_ipython': <bound method InteractiveShell.get_ipython of <ipykernel.zmqshell.ZMQInteractiveShell object at 0x000001AC40251E08>>,\n",
       " 'exit': <IPython.core.autocall.ZMQExitAutocall at 0x1ac42173b08>,\n",
       " 'quit': <IPython.core.autocall.ZMQExitAutocall at 0x1ac42173b08>,\n",
       " '_': {'name': '철저입문'},\n",
       " '__': {'name': '철저입문'},\n",
       " '___': {'name': '철저입문'},\n",
       " '_i': '**locals()',\n",
       " '_ii': \"print('{item} is {color}'.format(**locals()))\",\n",
       " '_iii': \"print('{item} is {color}'.format(**locals()))\",\n",
       " '_i1': \"value = 100\\nglobals()['value']\",\n",
       " 'value': 100,\n",
       " '_1': 100,\n",
       " '_i2': 'globals()',\n",
       " '_2': {...},\n",
       " '_i3': \"value = 100\\nglobals()['value']\",\n",
       " '_3': 100,\n",
       " '_i4': 'globals()',\n",
       " '_4': {...},\n",
       " '_i5': \"def func(x, y):\\n    return x,y\\n\\nprint(globals()['func'])\\n    \",\n",
       " 'func': <function __main__.func(x, y)>,\n",
       " '_i6': \"def func(x, y):\\n    return x,y\\n\\nprint(globals()['func'])\\nprint(globals()['func'](3,5))    \",\n",
       " '_i7': '**globals()',\n",
       " '_i8': 'print(**globals())',\n",
       " '_i9': \"print('{}',**globals())\",\n",
       " '_i10': \"print('{},{},{},{}',**globals())\",\n",
       " '_i11': \"print('{},{},{},{}'.format(**globals()))\",\n",
       " '_i12': \"print('{},{},{},{}'.format(**globals()[0]))\",\n",
       " '_i13': \"print('{},{},{},{}'.format(**globals()['func']))\",\n",
       " '_i14': \"print('{0},{0},{0},{0}'.format(**globals()['func']))\",\n",
       " '_i15': \"print('{value},{0},{0},{0}'.format(**globals()['func']))\",\n",
       " '_i16': \"print('{value}'.format(**globals()['value']))\",\n",
       " '_i17': 'pyton = globals()',\n",
       " 'pyton': {...},\n",
       " '_i18': 'python.__dict__',\n",
       " '_i19': 'python = globals()',\n",
       " 'python': <__main__.Book at 0x1ac43171c48>,\n",
       " '_i20': 'python.__dict__',\n",
       " '_i21': \"class Book:\\n    def __init__(self, name):\\n        self.name = name\\nprint(globals()['Book'])\\npython = globals()['Book']('철저입문')\\npython.__dict__\",\n",
       " 'Book': __main__.Book,\n",
       " '_21': {'name': '철저입문'},\n",
       " '_i22': \"class Book:\\n    def __init__(self, name):\\n        self.name = name\\nprint(globals()['Book'])\\npython = globals()['Book']('철저입문')\\npython.__dict__\",\n",
       " '_22': {'name': '철저입문'},\n",
       " '_i23': \"class Book:\\n    def __init__(self, name):\\n        self.name = name\\n        print(locals())\\nprint(globals()['Book'])\\npython = globals()['Book']('철저입문')\\npython.__dict__\",\n",
       " '_23': {'name': '철저입문'},\n",
       " '_i24': \"class Book:\\n    def __init__(self, name):\\n        self.name = name\\n        print('locals():' ,locals())\\nprint(globals()['Book'])\\npython = globals()['Book']('철저입문')\\npython.__dict__\",\n",
       " '_24': {'name': '철저입문'},\n",
       " '_i25': \"item = 'apple'\\ncolor ='red'\\nprint('{0}[item] is {0[color]}'.format(globals()))\",\n",
       " 'item': 'apple',\n",
       " 'color': 'red',\n",
       " '_i26': \"item = 'apple'\\ncolor ='red'\\nprint('{0}[item] is {0[color]}'.format(**globals()))\",\n",
       " '_i27': \"item = 'apple'\\ncolor ='red'\\nprint('{0}[item] is {0[color]}'.format(globals()))\",\n",
       " '_i28': \"item = 'apple'\\ncolor ='red'\\n\\nprint('{0}[item] is {0[color]}'.format(**globals()))\",\n",
       " '_i29': 'item = \\'apple\\'\\ncolor =\\'red\\'\\n\\nprint(\\'{0}[\"item\"] is {0[\"color\"]}\\'.format(globals()))',\n",
       " '_i30': \"item = 'apple'\\ncolor ='red'\\n\\nprint('{0[item]} is {0[color]}'.format(globals()))\",\n",
       " '_i31': \"print('{item} is {color}'.format(**locals()))\",\n",
       " '_i32': \"print('{item} is {color}'.format(**locals()))\",\n",
       " '_i33': '**locals()',\n",
       " '_i34': 'locals()'}"
      ]
     },
     "execution_count": 34,
     "metadata": {},
     "output_type": "execute_result"
    }
   ],
   "source": [
    "locals()"
   ]
  },
  {
   "cell_type": "markdown",
   "metadata": {},
   "source": [
    "```\n",
    "{'item' : 'apple',\n",
    "'color' : 'red'}\n",
    "```"
   ]
  },
  {
   "cell_type": "code",
   "execution_count": 35,
   "metadata": {
    "scrolled": true
   },
   "outputs": [
    {
     "data": {
      "text/plain": [
       "{'__name__': '__main__',\n",
       " '__doc__': 'Automatically created module for IPython interactive environment',\n",
       " '__package__': None,\n",
       " '__loader__': None,\n",
       " '__spec__': None,\n",
       " '__builtin__': <module 'builtins' (built-in)>,\n",
       " '__builtins__': <module 'builtins' (built-in)>,\n",
       " '_ih': ['',\n",
       "  \"value = 100\\nglobals()['value']\",\n",
       "  'globals()',\n",
       "  \"value = 100\\nglobals()['value']\",\n",
       "  'globals()',\n",
       "  \"def func(x, y):\\n    return x,y\\n\\nprint(globals()['func'])\\n    \",\n",
       "  \"def func(x, y):\\n    return x,y\\n\\nprint(globals()['func'])\\nprint(globals()['func'](3,5))    \",\n",
       "  '**globals()',\n",
       "  'print(**globals())',\n",
       "  \"print('{}',**globals())\",\n",
       "  \"print('{},{},{},{}',**globals())\",\n",
       "  \"print('{},{},{},{}'.format(**globals()))\",\n",
       "  \"print('{},{},{},{}'.format(**globals()[0]))\",\n",
       "  \"print('{},{},{},{}'.format(**globals()['func']))\",\n",
       "  \"print('{0},{0},{0},{0}'.format(**globals()['func']))\",\n",
       "  \"print('{value},{0},{0},{0}'.format(**globals()['func']))\",\n",
       "  \"print('{value}'.format(**globals()['value']))\",\n",
       "  'pyton = globals()',\n",
       "  'python.__dict__',\n",
       "  'python = globals()',\n",
       "  'python.__dict__',\n",
       "  \"class Book:\\n    def __init__(self, name):\\n        self.name = name\\nprint(globals()['Book'])\\npython = globals()['Book']('철저입문')\\npython.__dict__\",\n",
       "  \"class Book:\\n    def __init__(self, name):\\n        self.name = name\\nprint(globals()['Book'])\\npython = globals()['Book']('철저입문')\\npython.__dict__\",\n",
       "  \"class Book:\\n    def __init__(self, name):\\n        self.name = name\\n        print(locals())\\nprint(globals()['Book'])\\npython = globals()['Book']('철저입문')\\npython.__dict__\",\n",
       "  \"class Book:\\n    def __init__(self, name):\\n        self.name = name\\n        print('locals():' ,locals())\\nprint(globals()['Book'])\\npython = globals()['Book']('철저입문')\\npython.__dict__\",\n",
       "  \"item = 'apple'\\ncolor ='red'\\nprint('{0}[item] is {0[color]}'.format(globals()))\",\n",
       "  \"item = 'apple'\\ncolor ='red'\\nprint('{0}[item] is {0[color]}'.format(**globals()))\",\n",
       "  \"item = 'apple'\\ncolor ='red'\\nprint('{0}[item] is {0[color]}'.format(globals()))\",\n",
       "  \"item = 'apple'\\ncolor ='red'\\n\\nprint('{0}[item] is {0[color]}'.format(**globals()))\",\n",
       "  'item = \\'apple\\'\\ncolor =\\'red\\'\\n\\nprint(\\'{0}[\"item\"] is {0[\"color\"]}\\'.format(globals()))',\n",
       "  \"item = 'apple'\\ncolor ='red'\\n\\nprint('{0[item]} is {0[color]}'.format(globals()))\",\n",
       "  \"print('{item} is {color}'.format(**locals()))\",\n",
       "  \"print('{item} is {color}'.format(**locals()))\",\n",
       "  '**locals()',\n",
       "  'locals()',\n",
       "  'globals()'],\n",
       " '_oh': {1: 100,\n",
       "  2: {...},\n",
       "  3: 100,\n",
       "  4: {...},\n",
       "  21: {'name': '철저입문'},\n",
       "  22: {'name': '철저입문'},\n",
       "  23: {'name': '철저입문'},\n",
       "  24: {'name': '철저입문'},\n",
       "  34: {...}},\n",
       " '_dh': ['C:\\\\Users\\\\student\\\\python-study'],\n",
       " 'In': ['',\n",
       "  \"value = 100\\nglobals()['value']\",\n",
       "  'globals()',\n",
       "  \"value = 100\\nglobals()['value']\",\n",
       "  'globals()',\n",
       "  \"def func(x, y):\\n    return x,y\\n\\nprint(globals()['func'])\\n    \",\n",
       "  \"def func(x, y):\\n    return x,y\\n\\nprint(globals()['func'])\\nprint(globals()['func'](3,5))    \",\n",
       "  '**globals()',\n",
       "  'print(**globals())',\n",
       "  \"print('{}',**globals())\",\n",
       "  \"print('{},{},{},{}',**globals())\",\n",
       "  \"print('{},{},{},{}'.format(**globals()))\",\n",
       "  \"print('{},{},{},{}'.format(**globals()[0]))\",\n",
       "  \"print('{},{},{},{}'.format(**globals()['func']))\",\n",
       "  \"print('{0},{0},{0},{0}'.format(**globals()['func']))\",\n",
       "  \"print('{value},{0},{0},{0}'.format(**globals()['func']))\",\n",
       "  \"print('{value}'.format(**globals()['value']))\",\n",
       "  'pyton = globals()',\n",
       "  'python.__dict__',\n",
       "  'python = globals()',\n",
       "  'python.__dict__',\n",
       "  \"class Book:\\n    def __init__(self, name):\\n        self.name = name\\nprint(globals()['Book'])\\npython = globals()['Book']('철저입문')\\npython.__dict__\",\n",
       "  \"class Book:\\n    def __init__(self, name):\\n        self.name = name\\nprint(globals()['Book'])\\npython = globals()['Book']('철저입문')\\npython.__dict__\",\n",
       "  \"class Book:\\n    def __init__(self, name):\\n        self.name = name\\n        print(locals())\\nprint(globals()['Book'])\\npython = globals()['Book']('철저입문')\\npython.__dict__\",\n",
       "  \"class Book:\\n    def __init__(self, name):\\n        self.name = name\\n        print('locals():' ,locals())\\nprint(globals()['Book'])\\npython = globals()['Book']('철저입문')\\npython.__dict__\",\n",
       "  \"item = 'apple'\\ncolor ='red'\\nprint('{0}[item] is {0[color]}'.format(globals()))\",\n",
       "  \"item = 'apple'\\ncolor ='red'\\nprint('{0}[item] is {0[color]}'.format(**globals()))\",\n",
       "  \"item = 'apple'\\ncolor ='red'\\nprint('{0}[item] is {0[color]}'.format(globals()))\",\n",
       "  \"item = 'apple'\\ncolor ='red'\\n\\nprint('{0}[item] is {0[color]}'.format(**globals()))\",\n",
       "  'item = \\'apple\\'\\ncolor =\\'red\\'\\n\\nprint(\\'{0}[\"item\"] is {0[\"color\"]}\\'.format(globals()))',\n",
       "  \"item = 'apple'\\ncolor ='red'\\n\\nprint('{0[item]} is {0[color]}'.format(globals()))\",\n",
       "  \"print('{item} is {color}'.format(**locals()))\",\n",
       "  \"print('{item} is {color}'.format(**locals()))\",\n",
       "  '**locals()',\n",
       "  'locals()',\n",
       "  'globals()'],\n",
       " 'Out': {1: 100,\n",
       "  2: {...},\n",
       "  3: 100,\n",
       "  4: {...},\n",
       "  21: {'name': '철저입문'},\n",
       "  22: {'name': '철저입문'},\n",
       "  23: {'name': '철저입문'},\n",
       "  24: {'name': '철저입문'},\n",
       "  34: {...}},\n",
       " 'get_ipython': <bound method InteractiveShell.get_ipython of <ipykernel.zmqshell.ZMQInteractiveShell object at 0x000001AC40251E08>>,\n",
       " 'exit': <IPython.core.autocall.ZMQExitAutocall at 0x1ac42173b08>,\n",
       " 'quit': <IPython.core.autocall.ZMQExitAutocall at 0x1ac42173b08>,\n",
       " '_': {...},\n",
       " '__': {'name': '철저입문'},\n",
       " '___': {'name': '철저입문'},\n",
       " '_i': 'locals()',\n",
       " '_ii': '**locals()',\n",
       " '_iii': \"print('{item} is {color}'.format(**locals()))\",\n",
       " '_i1': \"value = 100\\nglobals()['value']\",\n",
       " 'value': 100,\n",
       " '_1': 100,\n",
       " '_i2': 'globals()',\n",
       " '_2': {...},\n",
       " '_i3': \"value = 100\\nglobals()['value']\",\n",
       " '_3': 100,\n",
       " '_i4': 'globals()',\n",
       " '_4': {...},\n",
       " '_i5': \"def func(x, y):\\n    return x,y\\n\\nprint(globals()['func'])\\n    \",\n",
       " 'func': <function __main__.func(x, y)>,\n",
       " '_i6': \"def func(x, y):\\n    return x,y\\n\\nprint(globals()['func'])\\nprint(globals()['func'](3,5))    \",\n",
       " '_i7': '**globals()',\n",
       " '_i8': 'print(**globals())',\n",
       " '_i9': \"print('{}',**globals())\",\n",
       " '_i10': \"print('{},{},{},{}',**globals())\",\n",
       " '_i11': \"print('{},{},{},{}'.format(**globals()))\",\n",
       " '_i12': \"print('{},{},{},{}'.format(**globals()[0]))\",\n",
       " '_i13': \"print('{},{},{},{}'.format(**globals()['func']))\",\n",
       " '_i14': \"print('{0},{0},{0},{0}'.format(**globals()['func']))\",\n",
       " '_i15': \"print('{value},{0},{0},{0}'.format(**globals()['func']))\",\n",
       " '_i16': \"print('{value}'.format(**globals()['value']))\",\n",
       " '_i17': 'pyton = globals()',\n",
       " 'pyton': {...},\n",
       " '_i18': 'python.__dict__',\n",
       " '_i19': 'python = globals()',\n",
       " 'python': <__main__.Book at 0x1ac43171c48>,\n",
       " '_i20': 'python.__dict__',\n",
       " '_i21': \"class Book:\\n    def __init__(self, name):\\n        self.name = name\\nprint(globals()['Book'])\\npython = globals()['Book']('철저입문')\\npython.__dict__\",\n",
       " 'Book': __main__.Book,\n",
       " '_21': {'name': '철저입문'},\n",
       " '_i22': \"class Book:\\n    def __init__(self, name):\\n        self.name = name\\nprint(globals()['Book'])\\npython = globals()['Book']('철저입문')\\npython.__dict__\",\n",
       " '_22': {'name': '철저입문'},\n",
       " '_i23': \"class Book:\\n    def __init__(self, name):\\n        self.name = name\\n        print(locals())\\nprint(globals()['Book'])\\npython = globals()['Book']('철저입문')\\npython.__dict__\",\n",
       " '_23': {'name': '철저입문'},\n",
       " '_i24': \"class Book:\\n    def __init__(self, name):\\n        self.name = name\\n        print('locals():' ,locals())\\nprint(globals()['Book'])\\npython = globals()['Book']('철저입문')\\npython.__dict__\",\n",
       " '_24': {'name': '철저입문'},\n",
       " '_i25': \"item = 'apple'\\ncolor ='red'\\nprint('{0}[item] is {0[color]}'.format(globals()))\",\n",
       " 'item': 'apple',\n",
       " 'color': 'red',\n",
       " '_i26': \"item = 'apple'\\ncolor ='red'\\nprint('{0}[item] is {0[color]}'.format(**globals()))\",\n",
       " '_i27': \"item = 'apple'\\ncolor ='red'\\nprint('{0}[item] is {0[color]}'.format(globals()))\",\n",
       " '_i28': \"item = 'apple'\\ncolor ='red'\\n\\nprint('{0}[item] is {0[color]}'.format(**globals()))\",\n",
       " '_i29': 'item = \\'apple\\'\\ncolor =\\'red\\'\\n\\nprint(\\'{0}[\"item\"] is {0[\"color\"]}\\'.format(globals()))',\n",
       " '_i30': \"item = 'apple'\\ncolor ='red'\\n\\nprint('{0[item]} is {0[color]}'.format(globals()))\",\n",
       " '_i31': \"print('{item} is {color}'.format(**locals()))\",\n",
       " '_i32': \"print('{item} is {color}'.format(**locals()))\",\n",
       " '_i33': '**locals()',\n",
       " '_i34': 'locals()',\n",
       " '_34': {...},\n",
       " '_i35': 'globals()'}"
      ]
     },
     "execution_count": 35,
     "metadata": {},
     "output_type": "execute_result"
    }
   ],
   "source": [
    "globals()"
   ]
  },
  {
   "cell_type": "markdown",
   "metadata": {},
   "source": [
    "```\n",
    "{'item' : 'apple',\n",
    "'color' : 'red'}\n",
    "```"
   ]
  },
  {
   "cell_type": "code",
   "execution_count": null,
   "metadata": {},
   "outputs": [],
   "source": []
  }
 ],
 "metadata": {
  "kernelspec": {
   "display_name": "Python 3",
   "language": "python",
   "name": "python3"
  },
  "language_info": {
   "codemirror_mode": {
    "name": "ipython",
    "version": 3
   },
   "file_extension": ".py",
   "mimetype": "text/x-python",
   "name": "python",
   "nbconvert_exporter": "python",
   "pygments_lexer": "ipython3",
   "version": "3.7.6"
  }
 },
 "nbformat": 4,
 "nbformat_minor": 4
}
