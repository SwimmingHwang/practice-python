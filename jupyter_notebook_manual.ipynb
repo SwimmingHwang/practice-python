{
 "cells": [
  {
   "cell_type": "markdown",
   "metadata": {},
   "source": [
    "2020.07.16"
   ]
  },
  {
   "cell_type": "code",
   "execution_count": 1,
   "metadata": {},
   "outputs": [
    {
     "name": "stdout",
     "output_type": "stream",
     "text": [
      "Hello World\n"
     ]
    }
   ],
   "source": [
    "print('Hello World')"
   ]
  },
  {
   "cell_type": "markdown",
   "metadata": {},
   "source": [
    "# 주피터 노트북 사용법"
   ]
  },
  {
   "cell_type": "markdown",
   "metadata": {},
   "source": [
    "### 1.주피터 노트북 단축키\n",
    "- ctrl + enter 실행\n",
    "- shift + enter 실행 후 셀 추가\n",
    "- a 위쪽에 셀 추가\n",
    "- b 아래쪽에 셀 추가\n",
    "- dd 셀 삭제"
   ]
  },
  {
   "cell_type": "markdown",
   "metadata": {},
   "source": [
    "\n",
    "### 2. 목록도 만들어 줘요.\n",
    "   1. 순서 있는 목록은\n",
    "   2. 이렇게 번호를 입력해요\n",
    "   \n",
    "   `print('hello world')`\n",
    "   \n",
    "<blockquote>인용</blockquote>"
   ]
  },
  {
   "cell_type": "markdown",
   "metadata": {},
   "source": [
    "# 제목"
   ]
  },
  {
   "cell_type": "markdown",
   "metadata": {},
   "source": [
    "# 제목1\n",
    "## 제목2\n",
    "### 제목3\n",
    "#### 제목4\n",
    "##### 제목 5\n",
    "###### 제목6\n",
    "\n",
    "제목 1\n",
    "======\n",
    "\n",
    "제목2\n",
    "------\n",
    "\n"
   ]
  },
  {
   "cell_type": "markdown",
   "metadata": {},
   "source": [
    "이텔릭체는 *별표(asterisks)* 혹은 _언더바(underscore)_를 사용하세요.  \n",
    "두껍게는 **별표(asterisks)** 혹은 __언더바(underscore)__를 사용하세요.   \n",
    "**_이텔릭체_와 두껍게**를 같이 사용할 수 있습니다.   \n",
    "취소선은 ~~물결표시(tilde)~~를 사용하세요.   \n",
    "<u>밑줄</u>은 `<u></u>`를 사용하세요.   "
   ]
  },
  {
   "cell_type": "markdown",
   "metadata": {},
   "source": [
    "1. 순서가 필요한 목록\n",
    "1. 순서가 필요한 목록\n",
    "  - 순서가 필요하지 않은 목록(서브) \n",
    "  - 순서가 필요하지 않은 목록(서브) \n",
    "1. 순서가 필요한 목록\n",
    "  1. 순서가 필요한 목록(서브)\n",
    "  1. 순서가 필요한 목록(서브)\n",
    "1. 순서가 필요한 목록\n",
    "\n",
    "- 순서가 필요하지 않은 목록에 사용 가능한 기호\n",
    "  - 대쉬(hyphen)\n",
    "  * 별표(asterisks)\n",
    "  + 더하기(plus sign)"
   ]
  },
  {
   "cell_type": "markdown",
   "metadata": {},
   "source": [
    "### Python code inline"
   ]
  },
  {
   "cell_type": "markdown",
   "metadata": {},
   "source": [
    "```python\n",
    "s = \"Python syntax highlighting\"\n",
    "print s\n",
    "```"
   ]
  },
  {
   "cell_type": "markdown",
   "metadata": {},
   "source": [
    "### Bash code inline"
   ]
  },
  {
   "cell_type": "markdown",
   "metadata": {},
   "source": [
    "```bash\n",
    "$ vim ./~zshrc\n",
    "```"
   ]
  },
  {
   "cell_type": "markdown",
   "metadata": {},
   "source": [
    "### 인용문"
   ]
  },
  {
   "cell_type": "markdown",
   "metadata": {},
   "source": [
    "인용문(blockQuote)\n",
    "\n",
    "> 남의 말이나 글에서 직접 또는 간접으로 따온 문장.\n",
    "> _(네이버 국어 사전)_\n",
    "\n",
    "BREAK!\n",
    "\n",
    "> 인용문을 작성하세요!\n",
    ">> 중첩된 인용문(nested blockquote)을 만들 수 있습니다.\n",
    ">>> 중중첩된 인용문 1\n",
    ">>> 중중첩된 인용문 2\n",
    ">>> 중중첩된 인용문 3"
   ]
  },
  {
   "cell_type": "markdown",
   "metadata": {},
   "source": [
    "### 줄바꿈\n",
    "`<br>`\n",
    "<br>"
   ]
  },
  {
   "cell_type": "code",
   "execution_count": null,
   "metadata": {},
   "outputs": [],
   "source": []
  }
 ],
 "metadata": {
  "kernelspec": {
   "display_name": "Python 3",
   "language": "python",
   "name": "python3"
  },
  "language_info": {
   "codemirror_mode": {
    "name": "ipython",
    "version": 3
   },
   "file_extension": ".py",
   "mimetype": "text/x-python",
   "name": "python",
   "nbconvert_exporter": "python",
   "pygments_lexer": "ipython3",
   "version": "3.7.6"
  }
 },
 "nbformat": 4,
 "nbformat_minor": 4
}
