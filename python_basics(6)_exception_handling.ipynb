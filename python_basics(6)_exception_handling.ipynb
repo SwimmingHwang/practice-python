{
 "cells": [
  {
   "cell_type": "markdown",
   "metadata": {},
   "source": [
    "2020.07.21"
   ]
  },
  {
   "cell_type": "markdown",
   "metadata": {},
   "source": [
    "### 예외처리란?"
   ]
  },
  {
   "cell_type": "markdown",
   "metadata": {},
   "source": [
    "#### Ex1) ZeroDivisionError"
   ]
  },
  {
   "cell_type": "code",
   "execution_count": 1,
   "metadata": {},
   "outputs": [
    {
     "name": "stdout",
     "output_type": "stream",
     "text": [
      "0\n"
     ]
    },
    {
     "ename": "ZeroDivisionError",
     "evalue": "division by zero",
     "output_type": "error",
     "traceback": [
      "\u001b[1;31m---------------------------------------------------------------------------\u001b[0m",
      "\u001b[1;31mZeroDivisionError\u001b[0m                         Traceback (most recent call last)",
      "\u001b[1;32m<ipython-input-1-fc032e1a54a4>\u001b[0m in \u001b[0;36m<module>\u001b[1;34m\u001b[0m\n\u001b[0;32m      1\u001b[0m \u001b[0mi\u001b[0m \u001b[1;33m=\u001b[0m \u001b[0mint\u001b[0m\u001b[1;33m(\u001b[0m\u001b[0minput\u001b[0m\u001b[1;33m(\u001b[0m\u001b[1;33m)\u001b[0m\u001b[1;33m)\u001b[0m\u001b[1;33m\u001b[0m\u001b[1;33m\u001b[0m\u001b[0m\n\u001b[1;32m----> 2\u001b[1;33m \u001b[0mprint\u001b[0m\u001b[1;33m(\u001b[0m\u001b[1;36m10\u001b[0m\u001b[1;33m/\u001b[0m\u001b[0mi\u001b[0m\u001b[1;33m)\u001b[0m\u001b[1;33m\u001b[0m\u001b[1;33m\u001b[0m\u001b[0m\n\u001b[0m",
      "\u001b[1;31mZeroDivisionError\u001b[0m: division by zero"
     ]
    }
   ],
   "source": [
    "i = int(input())\n",
    "print(10/i)"
   ]
  },
  {
   "cell_type": "markdown",
   "metadata": {},
   "source": [
    "#### Ex2) IndexError"
   ]
  },
  {
   "cell_type": "code",
   "execution_count": 7,
   "metadata": {},
   "outputs": [
    {
     "ename": "IndexError",
     "evalue": "list index out of range",
     "output_type": "error",
     "traceback": [
      "\u001b[1;31m---------------------------------------------------------------------------\u001b[0m",
      "\u001b[1;31mIndexError\u001b[0m                                Traceback (most recent call last)",
      "\u001b[1;32m<ipython-input-7-bac888085a4d>\u001b[0m in \u001b[0;36m<module>\u001b[1;34m\u001b[0m\n\u001b[0;32m      1\u001b[0m \u001b[0marr\u001b[0m \u001b[1;33m=\u001b[0m \u001b[1;33m[\u001b[0m\u001b[1;36m1\u001b[0m\u001b[1;33m,\u001b[0m \u001b[1;36m2\u001b[0m\u001b[1;33m,\u001b[0m \u001b[1;36m3\u001b[0m\u001b[1;33m]\u001b[0m\u001b[1;33m\u001b[0m\u001b[1;33m\u001b[0m\u001b[0m\n\u001b[1;32m----> 2\u001b[1;33m \u001b[0marr\u001b[0m\u001b[1;33m[\u001b[0m\u001b[1;36m3\u001b[0m\u001b[1;33m]\u001b[0m\u001b[1;33m\u001b[0m\u001b[1;33m\u001b[0m\u001b[0m\n\u001b[0m",
      "\u001b[1;31mIndexError\u001b[0m: list index out of range"
     ]
    }
   ],
   "source": [
    "arr = [1, 2, 3]\n",
    "arr[3]"
   ]
  },
  {
   "cell_type": "markdown",
   "metadata": {},
   "source": [
    "### Exception Handling 예제"
   ]
  },
  {
   "cell_type": "code",
   "execution_count": 8,
   "metadata": {},
   "outputs": [
    {
     "name": "stdout",
     "output_type": "stream",
     "text": [
      "리스트의 인덱스를 벗어났습니다\n"
     ]
    }
   ],
   "source": [
    "arr = [1, 2, 3]\n",
    "try : \n",
    "    arr[0]\n",
    "    arr[3]\n",
    "except:\n",
    "    print('리스트의 인덱스를 벗어났습니다')"
   ]
  },
  {
   "cell_type": "markdown",
   "metadata": {},
   "source": [
    "#### 특정 예외만 처리"
   ]
  },
  {
   "cell_type": "code",
   "execution_count": 14,
   "metadata": {},
   "outputs": [
    {
     "name": "stdout",
     "output_type": "stream",
     "text": [
      "인덱스, 나눌 숫자 입력!!4 1\n",
      "에러 발생\n"
     ]
    }
   ],
   "source": [
    "try:\n",
    "    arr = [10, 20, 30]\n",
    "    index, x = map(int, input('인덱스, 나눌 숫자 입력!!').split())\n",
    "    print(arr[index]/x)\n",
    "except:\n",
    "    print('에러 발생')"
   ]
  },
  {
   "cell_type": "code",
   "execution_count": 3,
   "metadata": {},
   "outputs": [
    {
     "name": "stdout",
     "output_type": "stream",
     "text": [
      "인덱스, 나눌 숫자 입력!!1 0\n",
      "0으로 나눌 수 없음.\n",
      "-- The End --\n"
     ]
    }
   ],
   "source": [
    "try:\n",
    "    arr = [10, 20, 30]\n",
    "    index, x = map(int, input('인덱스, 나눌 숫자 입력!!').split())\n",
    "    print(arr[index]/x)\n",
    "except IndexError:\n",
    "    print('잘못된 인덱스 입력')\n",
    "except ZeroDivisionError:\n",
    "    print('0으로 나눌 수 없음.')\n",
    "except Exception:\n",
    "    print('에러 발생')\n",
    "    \n",
    "print('-- The End --')"
   ]
  },
  {
   "cell_type": "markdown",
   "metadata": {},
   "source": [
    "> <h3> map() </h3>   \n",
    "\n",
    "- map의 구조 : map(function_to_apply, list_of_inputs)    \n",
    "- map의 경우, list의 element에 함수를 적용시켜 결과를 반환하고 싶을 때 사용함.\n",
    "- 예제\n",
    "```\n",
    "items = [1, 2, 3, 4, 5]\n",
    "squared = list(map(lambda x: x**2, items))\n",
    "```\n",
    "- items 리스트의 element 각각에 대해 제곱을 해서 새로운 리스트를 만들어 반환함.\n",
    "- `map` 앞에 `list` 함수를 통해 list 자료형으로 바꾸는 이유는 map 이 반환하는 것이 실제로는 list 자료형이 아니기 때문임.   \n",
    "    `map` 함수는 `Iterator` 를 반환하는데, 이를 list로 변환해서 list 자료형으로 만드는 것임. \n",
    "- `Iterator`는 `next()` 함수를 갖는 파이썬 객체로 꼭 메모리에 올릴 데이터만 올려서 메모리를 효율적으로 이용할 수 있는 파이썬의 대표적인 객체   \n",
    "    바로 list로 반환하는 것이 아니라 Iterator로 보다 상위의 객체를 리턴하는 것은, 다른 map 함수의 리턴값을 리스트가 아닌 다른 자료구조로 변환시킬 수도 있도록 하기 위해서임.   \n",
    "    예를 들어, set 자료구조로도 변환시킬 수 있음.   \n",
    "\n",
    "[ map참고 사이트 ](https://3months.tistory.com/338)"
   ]
  },
  {
   "cell_type": "markdown",
   "metadata": {},
   "source": [
    "#### else, finally 이용"
   ]
  },
  {
   "cell_type": "code",
   "execution_count": 1,
   "metadata": {},
   "outputs": [
    {
     "name": "stdout",
     "output_type": "stream",
     "text": [
      "2\n",
      "try 블럭\n",
      "결과 :  5.0\n",
      "반드시 실행할 블럭\n",
      "끝\n"
     ]
    }
   ],
   "source": [
    "i = int(input())\n",
    "try: \n",
    "    result = 10/i\n",
    "    print('try 블럭')\n",
    "except:\n",
    "    print('예외 발생')\n",
    "else: # 예외가 발생되지 않았을 때 실행되는 블럭\n",
    "    print('결과 : ', result)\n",
    "finally:\n",
    "    print('반드시 실행할 블럭')\n",
    "    \n",
    "print('끝')"
   ]
  },
  {
   "cell_type": "markdown",
   "metadata": {},
   "source": [
    "### 예외 발생시키기 (raise)"
   ]
  },
  {
   "cell_type": "code",
   "execution_count": 9,
   "metadata": {},
   "outputs": [
    {
     "name": "stdout",
     "output_type": "stream",
     "text": [
      "3의 배수를 입력하세요. :2\n",
      "예외 발생 :  3의 배수가 아닙니다. \n"
     ]
    }
   ],
   "source": [
    "try:\n",
    "    value = int(input('3의 배수를 입력하세요. :'))\n",
    "    if value % 3 != 0:\n",
    "        raise Exception('3의 배수가 아닙니다. ')\n",
    "    print(value)\n",
    "except Exception as e:\n",
    "    print('예외 발생 : ',e)"
   ]
  },
  {
   "cell_type": "markdown",
   "metadata": {},
   "source": [
    "#### 현재 발생된 예외를 다시 한 번 발생시켜주기"
   ]
  },
  {
   "cell_type": "code",
   "execution_count": 10,
   "metadata": {},
   "outputs": [
    {
     "name": "stdout",
     "output_type": "stream",
     "text": [
      "3의 배수를 입력하세요. :2\n",
      "예외 발생 :  3의 배수가 아닙니다. \n",
      "예외 발생  3의 배수가 아닙니다. \n"
     ]
    }
   ],
   "source": [
    "def my_func():\n",
    "    try:\n",
    "        value = int(input('3의 배수를 입력하세요. :'))\n",
    "        if value % 3 != 0:\n",
    "            raise Exception('3의 배수가 아닙니다. ')\n",
    "        print(value)\n",
    "    except Exception as e:\n",
    "        print('예외 발생 : ',e)\n",
    "        raise\n",
    "try:\n",
    "    my_func()\n",
    "except Exception as e:\n",
    "    print('예외 발생 ',e)\n"
   ]
  },
  {
   "cell_type": "markdown",
   "metadata": {},
   "source": [
    "#### 사용자 정의 예외"
   ]
  },
  {
   "cell_type": "code",
   "execution_count": 17,
   "metadata": {},
   "outputs": [],
   "source": [
    "# 1\n",
    "class CaramiException(Exception):\n",
    "    def __init__(self):\n",
    "        super().__init__('3의 배수만 실행됩니다.')\n",
    "        \n",
    "# 2 \n",
    "# class CaramiException(Exception):\n",
    "#     pass"
   ]
  },
  {
   "cell_type": "code",
   "execution_count": 18,
   "metadata": {},
   "outputs": [
    {
     "name": "stdout",
     "output_type": "stream",
     "text": [
      "3의 배수를 입력하세요. :2\n",
      "예외 발생 :  3의 배수만 실행됩니다.\n",
      "예외 발생 :  3의 배수만 실행됩니다.\n"
     ]
    }
   ],
   "source": [
    "def my_func():\n",
    "    try:\n",
    "        value = int(input('3의 배수를 입력하세요. :'))\n",
    "        if value % 3 != 0:\n",
    "            # 1 \n",
    "            raise CaramiException \n",
    "            # 2\n",
    "            # raise CaramiExceaption('수를 잘 입력하세요!')\n",
    "        print(value)\n",
    "    except Exception as e:\n",
    "        print('예외 발생 : ',e)\n",
    "        raise\n",
    "try:\n",
    "    my_func()\n",
    "except Exception as e:\n",
    "    print('예외 발생 : ',e)\n"
   ]
  },
  {
   "cell_type": "code",
   "execution_count": null,
   "metadata": {},
   "outputs": [],
   "source": []
  }
 ],
 "metadata": {
  "kernelspec": {
   "display_name": "Python 3",
   "language": "python",
   "name": "python3"
  },
  "language_info": {
   "codemirror_mode": {
    "name": "ipython",
    "version": 3
   },
   "file_extension": ".py",
   "mimetype": "text/x-python",
   "name": "python",
   "nbconvert_exporter": "python",
   "pygments_lexer": "ipython3",
   "version": "3.7.6"
  }
 },
 "nbformat": 4,
 "nbformat_minor": 4
}
