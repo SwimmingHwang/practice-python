{
 "cells": [
  {
   "cell_type": "markdown",
   "metadata": {},
   "source": [
    "2020.07.21   \n",
    "### Class Example\n",
    "https://wikidocs.net/7037"
   ]
  },
  {
   "cell_type": "code",
   "execution_count": 20,
   "metadata": {},
   "outputs": [
    {
     "name": "stdout",
     "output_type": "stream",
     "text": [
      "<객체 생성>\n",
      "1\n",
      "김민수\n",
      "100\n",
      "SC은행\n",
      "576-67-890754\n",
      "==============================\n",
      "2\n",
      "==============================\n",
      "클래스 변수 출력 : 2\n"
     ]
    }
   ],
   "source": [
    "import random\n",
    "\n",
    "class Account:\n",
    "    \n",
    "    account_count = 0\n",
    "    \n",
    "    def __init__(self, name, balance):\n",
    "        self.name = name\n",
    "        self.balance = balance\n",
    "        self.bank = \"SC은행\"\n",
    "        num1 = random.randint(0, 999)\n",
    "        num2 = random.randint(0, 99)\n",
    "        num3 = random.randint(0, 999999)\n",
    "        \n",
    "        num1 = str(num1).zfill(3)\n",
    "        num2 = str(num2).zfill(2)\n",
    "        num3 = str(num3).zfill(6)\n",
    "        self.account_number = num1 + '-' + num2 + '-' + num3\n",
    "        \n",
    "        Account.account_count += 1\n",
    "        \n",
    "    @classmethod\n",
    "    def get_account_num(cls):\n",
    "        print(cls.account_count)\n",
    "        \n",
    "    # 입금 \n",
    "    def deposit(self, amount):\n",
    "        if amount >=1:\n",
    "            self.balance += amount\n",
    "    # 출금\n",
    "    def withdraw(self, amount):\n",
    "        if self.balance > amount:\n",
    "            self.balance -= amount\n",
    "            print(\"{}를 출금하였습니다.\".format(amount))\n",
    "\n",
    "print('<객체 생성>')\n",
    "kim = Account(\"김민수\", 100)\n",
    "print(Account.account_count)\n",
    "\n",
    "print(kim.name)\n",
    "print(kim.balance)\n",
    "print(kim.bank)\n",
    "print(kim.account_number)\n",
    "print('='*30)\n",
    "\n",
    "lee = Account(\"이민수\", 100)\n",
    "print(Account.account_count)\n",
    "print('='*30)\n",
    "\n",
    "print('클래스 변수 출력 :',end =' ')\n",
    "kim.get_account_num()\n",
    "    \n"
   ]
  },
  {
   "cell_type": "code",
   "execution_count": null,
   "metadata": {},
   "outputs": [],
   "source": []
  }
 ],
 "metadata": {
  "kernelspec": {
   "display_name": "Python 3",
   "language": "python",
   "name": "python3"
  },
  "language_info": {
   "codemirror_mode": {
    "name": "ipython",
    "version": 3
   },
   "file_extension": ".py",
   "mimetype": "text/x-python",
   "name": "python",
   "nbconvert_exporter": "python",
   "pygments_lexer": "ipython3",
   "version": "3.7.6"
  }
 },
 "nbformat": 4,
 "nbformat_minor": 4
}
