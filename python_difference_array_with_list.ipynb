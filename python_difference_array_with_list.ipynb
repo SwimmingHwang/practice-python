{
 "cells": [
  {
   "cell_type": "markdown",
   "metadata": {},
   "source": [
    "#### 배열(Array)와 리스트(List)의 차이\n",
    "- 배열(Array)\n",
    "    - 같은 자료형을 가진 변수를 하나로 나타낸 것.\n",
    "    - 연속된 메모리 공간으로 이루어져 있는 것.\n",
    "    - 정적 표현\n",
    "    - 인덱스 이용하여 표현\n",
    "    - 지역성\n",
    "    - 장점\n",
    "        - 인덱스를 통한 검색 용이\n",
    "        - 연속적이므로 메모리 관리가 편함\n",
    "    - 단점\n",
    "        - 한 데이터를 삭제해도 배열은 연속해야 해서 메모리 낭비\n",
    "        - 정적이므로 배열의 크기를 컴파일 이전에 정해주어야 함.\n",
    "        - 컴파일 이후 배열의 크기를 변동 할 수 없음.\n",
    "- 리스트(List)\n",
    "    - 순서가 있는 데이터의 집함\n",
    "    - 불연속적으로 메모리 공간을 차지\n",
    "    - 동적 표현\n",
    "    - 인덱스가 없음\n",
    "    - 포인터를 통한 접근\n",
    "    - 장점\n",
    "        - 삽입 삭제가 용이\n",
    "        - 동적으로 크기가 정해져 있지 않음\n",
    "        - 메모리의 재사용 편리\n",
    "        - 불연속적이므로 메모리 관리의 편리\n",
    "    - 단점\n",
    "        - 검색 성능이 좋지 않음\n",
    "        - 포인터를 통해 다음 데이터를 가르키므로 추가적인 메모리 공간 발생"
   ]
  },
  {
   "cell_type": "markdown",
   "metadata": {},
   "source": [
    "### [numpy](https://numpy.org/)\n",
    "- 파이썬으로 과학 연산을 쉽고 빠르게 할 수 있게 만든 패키지"
   ]
  },
  {
   "cell_type": "markdown",
   "metadata": {},
   "source": [
    "#### array to list"
   ]
  },
  {
   "cell_type": "code",
   "execution_count": 21,
   "metadata": {},
   "outputs": [
    {
     "name": "stdout",
     "output_type": "stream",
     "text": [
      "array:\n",
      " [[0.1 0.2]\n",
      " [0.1 0.2]]\n"
     ]
    }
   ],
   "source": [
    "import numpy as np\n",
    "data = [[0.1, 0.2],[0.1, 0.2]] # list type으로 할당\n",
    "data = np.array(data) # list to array\n",
    "print('array:\\n', data)"
   ]
  },
  {
   "cell_type": "code",
   "execution_count": 22,
   "metadata": {},
   "outputs": [
    {
     "data": {
      "text/plain": [
       "numpy.ndarray"
      ]
     },
     "execution_count": 22,
     "metadata": {},
     "output_type": "execute_result"
    }
   ],
   "source": [
    "type(data)"
   ]
  },
  {
   "cell_type": "code",
   "execution_count": 23,
   "metadata": {
    "scrolled": true
   },
   "outputs": [
    {
     "data": {
      "text/plain": [
       "(2, 2)"
      ]
     },
     "execution_count": 23,
     "metadata": {},
     "output_type": "execute_result"
    }
   ],
   "source": [
    "data.shape"
   ]
  },
  {
   "cell_type": "code",
   "execution_count": 28,
   "metadata": {},
   "outputs": [
    {
     "data": {
      "text/plain": [
       "(2, 2)"
      ]
     },
     "execution_count": 28,
     "metadata": {},
     "output_type": "execute_result"
    }
   ],
   "source": [
    "np.shape(data)"
   ]
  },
  {
   "cell_type": "markdown",
   "metadata": {},
   "source": [
    "#### list to array"
   ]
  },
  {
   "cell_type": "code",
   "execution_count": 24,
   "metadata": {},
   "outputs": [
    {
     "name": "stdout",
     "output_type": "stream",
     "text": [
      "list:\n",
      " [[0.1, 0.2], [0.1, 0.2]]\n"
     ]
    }
   ],
   "source": [
    "data = data.tolist() # array to list\n",
    "print(\"list:\\n\",data)"
   ]
  },
  {
   "cell_type": "code",
   "execution_count": 25,
   "metadata": {},
   "outputs": [
    {
     "data": {
      "text/plain": [
       "list"
      ]
     },
     "execution_count": 25,
     "metadata": {},
     "output_type": "execute_result"
    }
   ],
   "source": [
    "type(data)"
   ]
  },
  {
   "cell_type": "code",
   "execution_count": 29,
   "metadata": {},
   "outputs": [
    {
     "ename": "AttributeError",
     "evalue": "'list' object has no attribute 'shape'",
     "output_type": "error",
     "traceback": [
      "\u001b[1;31m---------------------------------------------------------------------------\u001b[0m",
      "\u001b[1;31mAttributeError\u001b[0m                            Traceback (most recent call last)",
      "\u001b[1;32m<ipython-input-29-9a00fe8d3951>\u001b[0m in \u001b[0;36m<module>\u001b[1;34m\u001b[0m\n\u001b[1;32m----> 1\u001b[1;33m \u001b[0mdata\u001b[0m\u001b[1;33m.\u001b[0m\u001b[0mshape\u001b[0m\u001b[1;33m\u001b[0m\u001b[1;33m\u001b[0m\u001b[0m\n\u001b[0m",
      "\u001b[1;31mAttributeError\u001b[0m: 'list' object has no attribute 'shape'"
     ]
    }
   ],
   "source": [
    "data.shape "
   ]
  },
  {
   "cell_type": "code",
   "execution_count": 30,
   "metadata": {
    "scrolled": true
   },
   "outputs": [
    {
     "data": {
      "text/plain": [
       "(2, 2)"
      ]
     },
     "execution_count": 30,
     "metadata": {},
     "output_type": "execute_result"
    }
   ],
   "source": [
    "np.shape(data)"
   ]
  },
  {
   "cell_type": "markdown",
   "metadata": {},
   "source": [
    "출처 : http://egloos.zum.com/qordidtn02/v/6281203"
   ]
  },
  {
   "cell_type": "code",
   "execution_count": null,
   "metadata": {},
   "outputs": [],
   "source": []
  }
 ],
 "metadata": {
  "kernelspec": {
   "display_name": "Python 3",
   "language": "python",
   "name": "python3"
  },
  "language_info": {
   "codemirror_mode": {
    "name": "ipython",
    "version": 3
   },
   "file_extension": ".py",
   "mimetype": "text/x-python",
   "name": "python",
   "nbconvert_exporter": "python",
   "pygments_lexer": "ipython3",
   "version": "3.7.6"
  }
 },
 "nbformat": 4,
 "nbformat_minor": 4
}
