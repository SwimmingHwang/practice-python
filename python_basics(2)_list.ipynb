{
 "cells": [
  {
   "cell_type": "code",
   "execution_count": 3,
   "metadata": {},
   "outputs": [
    {
     "name": "stdout",
     "output_type": "stream",
     "text": [
      "1.2\n",
      "[100, 'a', True]\n"
     ]
    }
   ],
   "source": [
    "a = []\n",
    "type(a)\n",
    "\n",
    "a = [1.2, 'a', True]\n",
    "a\n",
    "\n",
    "i = a[0]\n",
    "print(i)\n",
    "\n",
    "a[0] = 100\n",
    "print(a)"
   ]
  },
  {
   "cell_type": "markdown",
   "metadata": {},
   "source": [
    "### append() vs extend() "
   ]
  },
  {
   "cell_type": "code",
   "execution_count": 5,
   "metadata": {},
   "outputs": [
    {
     "name": "stdout",
     "output_type": "stream",
     "text": [
      "[1, 2, 3, 4, [10, 20], [10, 20]]\n",
      "6\n"
     ]
    }
   ],
   "source": [
    "a = [1, 2, 3, 4, [10,20]]\n",
    "a.append([10, 20])\n",
    "print(a)\n",
    "print(len(a))\n",
    "\n",
    "b = []\n",
    "a.extend([4.5])"
   ]
  },
  {
   "cell_type": "code",
   "execution_count": 6,
   "metadata": {},
   "outputs": [
    {
     "name": "stdout",
     "output_type": "stream",
     "text": [
      "[1, 2, 3, 4, 5]\n"
     ]
    }
   ],
   "source": [
    "a = [1, 2, 3]\n",
    "a.extend([4, 5])\n",
    "print(a)"
   ]
  },
  {
   "cell_type": "markdown",
   "metadata": {},
   "source": [
    "`list.append(x)`는 리스트 끝에 x 1개를 그대로 넣습니다.   \n",
    "`list.extend(iterable)`는 리스트 끝에 가장 바깥쪽 iterable의 모든 항목을 넣습니다."
   ]
  },
  {
   "cell_type": "code",
   "execution_count": 10,
   "metadata": {},
   "outputs": [
    {
     "name": "stdout",
     "output_type": "stream",
     "text": [
      "x: ['Tick', 'Tock', 'Song', ['Ping', 'Pong']]\n",
      "x: ['Tick', 'Tock', 'Song', 'Ping', 'Pong']\n",
      "x: ['Tick', 'Tock', 'Song', [['Ping', 'Pong']]]\n",
      "x: ['Tick', 'Tock', 'Song', ['Ping', 'Pong']]\n",
      "x: ['Tick', 'Tock', 'Song', 'Ping']\n",
      "x: ['Tick', 'Tock', 'Song', 'P', 'i', 'n', 'g']\n"
     ]
    }
   ],
   "source": [
    "x = ['Tick', 'Tock', 'Song']\n",
    "y = ['Ping', 'Pong']\n",
    "x.append(y)\n",
    "print('x:', x)\n",
    "\n",
    "x = ['Tick', 'Tock', 'Song']\n",
    "y = ['Ping', 'Pong']\n",
    "x.extend(y)\n",
    "print('x:', x)\n",
    "\n",
    "\n",
    "x = ['Tick', 'Tock', 'Song']\n",
    "y = [['Ping', 'Pong']]\n",
    "x.append(y)\n",
    "print('x:', x)\n",
    "\n",
    "x = ['Tick', 'Tock', 'Song']\n",
    "y = [['Ping', 'Pong']]\n",
    "x.extend(y)\n",
    "print('x:', x)\n",
    "\n",
    "\n",
    "x = ['Tick', 'Tock', 'Song']\n",
    "y = 'Ping'\n",
    "x.append(y)\n",
    "print('x:', x)\n",
    "\n",
    "x = ['Tick', 'Tock', 'Song']\n",
    "y = 'Ping'\n",
    "x.extend(y)\n",
    "print('x:', x)"
   ]
  },
  {
   "cell_type": "markdown",
   "metadata": {},
   "source": [
    "### insert()"
   ]
  },
  {
   "cell_type": "code",
   "execution_count": 11,
   "metadata": {},
   "outputs": [
    {
     "name": "stdout",
     "output_type": "stream",
     "text": [
      "[70, 80, 100, 30]\n"
     ]
    }
   ],
   "source": [
    "a = [70, 80, 30]\n",
    "a.insert(2, 100)\n",
    "print(a)"
   ]
  },
  {
   "cell_type": "markdown",
   "metadata": {},
   "source": [
    "### 슬라이스 할당"
   ]
  },
  {
   "cell_type": "code",
   "execution_count": 19,
   "metadata": {},
   "outputs": [
    {
     "name": "stdout",
     "output_type": "stream",
     "text": [
      "[70, 80, 100, 30, 400, 50, 70]\n",
      "[70, 80, 100, 30, 400, 500, 600]\n"
     ]
    }
   ],
   "source": [
    "a = [70, 80, 100, 30, 50, 70]\n",
    "a[4:4] = [400] # 변경 \n",
    "print(a)\n",
    "\n",
    "a = [70, 80, 100, 30, 50, 70]\n",
    "a[4:] = [400, 500, 600] # 대체 \n",
    "print(a)"
   ]
  },
  {
   "cell_type": "markdown",
   "metadata": {},
   "source": [
    "### 리스트 삭제 "
   ]
  },
  {
   "cell_type": "code",
   "execution_count": 18,
   "metadata": {},
   "outputs": [
    {
     "name": "stdout",
     "output_type": "stream",
     "text": [
      "50\n",
      "[70, 80, 100, 30, 50]\n",
      "50\n",
      "[70, 80, 100, 30]\n",
      "[70, 80, 30]\n"
     ]
    }
   ],
   "source": [
    "print(a[len(a)-1])\n",
    "print(a)\n",
    "print(a.pop())\n",
    "print(a)\n",
    "a.pop(2)\n",
    "print(a)"
   ]
  },
  {
   "cell_type": "code",
   "execution_count": 23,
   "metadata": {},
   "outputs": [
    {
     "name": "stdout",
     "output_type": "stream",
     "text": [
      "[1, 3]\n"
     ]
    }
   ],
   "source": [
    "a = [1, 2, 3]\n",
    "del a[1] # 해당 원소 삭제\n",
    "print(a)"
   ]
  },
  {
   "cell_type": "code",
   "execution_count": 24,
   "metadata": {},
   "outputs": [
    {
     "name": "stdout",
     "output_type": "stream",
     "text": [
      "[1, 3]\n",
      "[3]\n"
     ]
    }
   ],
   "source": [
    "print(a)\n",
    "a.remove(1) # 인덱스가 아니라 값을 찾아서 삭제해줌. \n",
    "print(a)"
   ]
  },
  {
   "cell_type": "markdown",
   "metadata": {},
   "source": [
    "### count()"
   ]
  },
  {
   "cell_type": "code",
   "execution_count": 40,
   "metadata": {},
   "outputs": [
    {
     "name": "stdout",
     "output_type": "stream",
     "text": [
      "12\n",
      "3\n",
      "3\n"
     ]
    }
   ],
   "source": [
    "a = [1, 2, 3, 4, 5, 5, 5, 6, 6, 7, 6, 3]\n",
    "print(len(a))\n",
    "print(a.count(5)) \n",
    "print(a.count(6)) "
   ]
  },
  {
   "cell_type": "markdown",
   "metadata": {},
   "source": [
    "### sum()"
   ]
  },
  {
   "cell_type": "code",
   "execution_count": 41,
   "metadata": {},
   "outputs": [
    {
     "data": {
      "text/plain": [
       "53"
      ]
     },
     "execution_count": 41,
     "metadata": {},
     "output_type": "execute_result"
    }
   ],
   "source": [
    "sum(a) # built-in fuction"
   ]
  },
  {
   "cell_type": "markdown",
   "metadata": {},
   "source": [
    "### sort() vs sorted()_built-in function"
   ]
  },
  {
   "cell_type": "code",
   "execution_count": 43,
   "metadata": {},
   "outputs": [
    {
     "name": "stdout",
     "output_type": "stream",
     "text": [
      "[1, 2, 3, 3, 4, 5, 5, 5, 6, 6, 6, 7]\n",
      "[1, 2, 3, 3, 4, 5, 5, 5, 6, 6, 6, 7]\n"
     ]
    }
   ],
   "source": [
    "b = sorted(a)\n",
    "print(a)\n",
    "a.sort()\n",
    "print(a)"
   ]
  },
  {
   "cell_type": "markdown",
   "metadata": {},
   "source": [
    "### clear()"
   ]
  },
  {
   "cell_type": "code",
   "execution_count": 44,
   "metadata": {},
   "outputs": [
    {
     "name": "stdout",
     "output_type": "stream",
     "text": [
      "[]\n"
     ]
    }
   ],
   "source": [
    "a.clear()\n",
    "print(a)"
   ]
  },
  {
   "cell_type": "code",
   "execution_count": null,
   "metadata": {},
   "outputs": [],
   "source": []
  }
 ],
 "metadata": {
  "kernelspec": {
   "display_name": "Python 3",
   "language": "python",
   "name": "python3"
  },
  "language_info": {
   "codemirror_mode": {
    "name": "ipython",
    "version": 3
   },
   "file_extension": ".py",
   "mimetype": "text/x-python",
   "name": "python",
   "nbconvert_exporter": "python",
   "pygments_lexer": "ipython3",
   "version": "3.7.6"
  }
 },
 "nbformat": 4,
 "nbformat_minor": 4
}
