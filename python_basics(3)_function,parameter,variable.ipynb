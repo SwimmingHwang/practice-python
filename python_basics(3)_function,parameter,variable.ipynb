{
 "cells": [
  {
   "cell_type": "markdown",
   "metadata": {},
   "source": [
    "2020.07.20"
   ]
  },
  {
   "cell_type": "markdown",
   "metadata": {},
   "source": [
    "### 함수"
   ]
  },
  {
   "cell_type": "markdown",
   "metadata": {},
   "source": [
    "#### 인자도 반환 값도 없는 함수"
   ]
  },
  {
   "cell_type": "code",
   "execution_count": 4,
   "metadata": {},
   "outputs": [],
   "source": [
    "# 함수 정의\n",
    "def my_func():\n",
    "    print(\"My first function!\")\n",
    "    print(\"This is a function.\")"
   ]
  },
  {
   "cell_type": "code",
   "execution_count": 5,
   "metadata": {},
   "outputs": [
    {
     "name": "stdout",
     "output_type": "stream",
     "text": [
      "My first function!\n",
      "This is a function.\n"
     ]
    }
   ],
   "source": [
    "# 함수 호출\n",
    "my_func()"
   ]
  },
  {
   "cell_type": "markdown",
   "metadata": {},
   "source": [
    "> ### [Why Not Overloading](https://stackoverflow.com/questions/6434482/python-function-overloading)?\n",
    "- python은 method overloading이 안 된다.\n",
    "- Python is a dynamically typed language, so the concept of overloading simply does not apply to it. However, all is not lost, since we can create such alternative functions at run-time: ( multimethods = multipledispatch )\n"
   ]
  },
  {
   "cell_type": "markdown",
   "metadata": {},
   "source": [
    "> [`namedtuple`](https://docs.python.org/3/library/collections.html#collections.namedtuple)은 항복에 이름을 붙여 사용할 수 있다.   \n",
    "인덱스로도 접근이 가능하다.   \n",
    "> #### namedtuple 예제 "
   ]
  },
  {
   "cell_type": "code",
   "execution_count": 45,
   "metadata": {},
   "outputs": [
    {
     "name": "stdout",
     "output_type": "stream",
     "text": [
      "John\n",
      "30\n"
     ]
    }
   ],
   "source": [
    "from collections import namedtuple\n",
    "Pinfo = namedtuple(\"biz_card\",\"name age phone_num\")\n",
    "bcard_John = Pinfo(\"John\", 30, \"012-123-123\")\n",
    "print(bcard_John.name)\n",
    "print(bcard_John.age)"
   ]
  },
  {
   "cell_type": "markdown",
   "metadata": {},
   "source": [
    "> #### multipledispatch 예제"
   ]
  },
  {
   "cell_type": "code",
   "execution_count": 69,
   "metadata": {},
   "outputs": [
    {
     "name": "stdout",
     "output_type": "stream",
     "text": [
      "Called Version 1\n"
     ]
    }
   ],
   "source": [
    "# multipledispatch example\n",
    "from multipledispatch import dispatch\n",
    "from collections import namedtuple\n",
    "from types import *  # we can test for lambda type\n",
    "type(lambda a:1) == LambdaType # True\n",
    "\n",
    "Sprite = namedtuple('Sprite', ['name'])\n",
    "Point = namedtuple('Point', ['x', 'y'])\n",
    "Curve = namedtuple('Curve', ['x', 'y', 'z'])\n",
    "Vector = namedtuple('Vector', ['x','y','z'])\n",
    "\n",
    "@dispatch(Sprite, Point, Vector, int)\n",
    "def add_bullet(sprite, start, direction, speed):\n",
    "    print(\"Called Version 1\")\n",
    "\n",
    "@dispatch(Sprite, Point, Point, int, float)\n",
    "def add_bullet(sprite, start, headto, speed, acceleration):\n",
    "    print(\"Called version 2\")\n",
    "\n",
    "@dispatch(Sprite, LambdaType)\n",
    "def add_bullet(sprite, script):\n",
    "    print(\"Called version 3\")\n",
    "\n",
    "@dispatch(Sprite, Curve, int)\n",
    "def add_bullet(sprite, curve, speed):\n",
    "    print(\"Called version 4\")\n",
    "\n",
    "\n",
    "sprite = Sprite('Turtle')\n",
    "start = Point(1,2)\n",
    "direction = Vector(1,1,1)\n",
    "speed = 100 #km/h\n",
    "acceleration = 5.0 #m/s\n",
    "script = lambda sprite: sprite.x * 2\n",
    "curve = Curve(3, 1, 4)\n",
    "headto = Point(100, 100) # somewhere far away\n",
    "\n",
    "add_bullet(sprite, start, direction, speed)"
   ]
  },
  {
   "cell_type": "code",
   "execution_count": 70,
   "metadata": {},
   "outputs": [
    {
     "name": "stdout",
     "output_type": "stream",
     "text": [
      "Point(x=1, y=2)\n",
      "1 2\n"
     ]
    }
   ],
   "source": [
    "print(start)\n",
    "print(start.x, start.y)"
   ]
  },
  {
   "cell_type": "markdown",
   "metadata": {},
   "source": [
    "#### 인자도 있고 반환 값도 있는 함수"
   ]
  },
  {
   "cell_type": "code",
   "execution_count": 71,
   "metadata": {},
   "outputs": [],
   "source": [
    "# 함수 정의\n",
    "def my_calc(x, y):\n",
    "    z = x*y\n",
    "    return z"
   ]
  },
  {
   "cell_type": "code",
   "execution_count": 72,
   "metadata": {},
   "outputs": [
    {
     "data": {
      "text/plain": [
       "12"
      ]
     },
     "execution_count": 72,
     "metadata": {},
     "output_type": "execute_result"
    }
   ],
   "source": [
    "# 함수 호출\n",
    "my_calc(3, 4)"
   ]
  },
  {
   "cell_type": "markdown",
   "metadata": {},
   "source": [
    "#### doc string"
   ]
  },
  {
   "cell_type": "code",
   "execution_count": 38,
   "metadata": {},
   "outputs": [],
   "source": [
    "def my_hello():\n",
    "    '''인사하는 함수입니다.'''\n",
    "    print('안뇽')"
   ]
  },
  {
   "cell_type": "code",
   "execution_count": 40,
   "metadata": {},
   "outputs": [
    {
     "data": {
      "text/plain": [
       "'인사하는 함수입니다.'"
      ]
     },
     "execution_count": 40,
     "metadata": {},
     "output_type": "execute_result"
    }
   ],
   "source": [
    "my_hello.__doc__ # 하나의 attribute"
   ]
  },
  {
   "cell_type": "markdown",
   "metadata": {},
   "source": [
    "> #### \\*arg 와 \\**kwarg\n",
    "- *arg 는 튜플의 형태임\n",
    "    - 여러 개의 인자로 함수를 호출할 경우, 함수 내부에서는 튜플로 받은 것처럼 인식함.\n",
    "    - 갯수가 정해져 있지 않기 때문에, 일반 변수보다는 뒤에 위치해있어야 함.\n",
    "- \\**kwarg\n",
    "    - keyword argument의 줄임말로 키워드를 제공함.\n",
    "    - (key = value) 형태로 함수를 호출할 수 있음.    \n",
    "    즉, 딕셔너리 형태가 함수 내부로 전달된다.\n",
    "    - ex) print() 함수의 경우 end 키워드 값을 바꿔주면 다르게 동작함. 이에 \\**kwarg가 쓰임을 알 수 있음.   \n",
    "    정확히 말하자면, 기본값이 \\n으로 되어있는 것임.\n",
    "- 함수의 파라미터 순서 : 일반 변수, \\*변수, \\*\\*변수   \n",
    "   - \\*변수 : 여러개가 아규먼트로 들어올 때, 함수 내부에서는 해당 변수를 '튜플'로 처리한다.   \n",
    "   - \\*\\*변수 : 키워드=' '로 입력할 경우 그것을 각각 키와 값으로 가져오는 '딕셔너리'로 처리\n",
    "- \\*args, \\**kwargs 형태로 가변인자를 받는걸 packing 이라함\n"
   ]
  },
  {
   "cell_type": "code",
   "execution_count": 74,
   "metadata": {
    "scrolled": false
   },
   "outputs": [
    {
     "name": "stdout",
     "output_type": "stream",
     "text": [
      "10\n",
      "------------------------------\n",
      "10\n",
      "20\n",
      "30\n",
      "------------------------------\n",
      "1\n",
      "2\n",
      "3\n",
      "4\n",
      "5\n",
      "6\n"
     ]
    }
   ],
   "source": [
    "def print_numbers(*args): # 가변길이로 parameter 받기\n",
    "    for arg in args:\n",
    "        print(arg)\n",
    "print_numbers(10)\n",
    "print('-'*30)\n",
    "print_numbers(10, 20, 30)\n",
    "x = [1,2,3,4,5,6]\n",
    "print('-'*30)\n",
    "print_numbers(*x)"
   ]
  },
  {
   "cell_type": "code",
   "execution_count": 75,
   "metadata": {},
   "outputs": [
    {
     "name": "stdout",
     "output_type": "stream",
     "text": [
      "10\n",
      "()\n",
      "------------------------------\n",
      "10\n",
      "(20, 30)\n",
      "------------------------------\n",
      "1\n",
      "(2, 3, 4, 5, 6)\n"
     ]
    }
   ],
   "source": [
    "def print_numbers(a, *args): # 가변길이로 parameter 받기\n",
    "    print(a)\n",
    "    print(args)\n",
    "print_numbers(10)\n",
    "print('-'*30)\n",
    "print_numbers(10, 20, 30)\n",
    "x = [1,2,3,4,5,6]\n",
    "print('-'*30)\n",
    "print_numbers(*x)"
   ]
  },
  {
   "cell_type": "markdown",
   "metadata": {},
   "source": [
    "> 컨테이너 타입의 데이터를 Unpacking 할 때 \"*\\\" 을 씀"
   ]
  },
  {
   "cell_type": "code",
   "execution_count": 77,
   "metadata": {},
   "outputs": [
    {
     "name": "stdout",
     "output_type": "stream",
     "text": [
      "이름 : 강경미\n",
      "나이 : 20\n",
      "주소 : 경기도 고양시\n"
     ]
    }
   ],
   "source": [
    "def person_info(name, age, address):\n",
    "    print('이름 :' ,name)\n",
    "    print('나이 :', age)\n",
    "    print('주소 :', address)\n",
    "    \n",
    "person_info(name='강경미', address='경기도 고양시', age=20)"
   ]
  },
  {
   "cell_type": "code",
   "execution_count": 78,
   "metadata": {},
   "outputs": [
    {
     "name": "stdout",
     "output_type": "stream",
     "text": [
      "이름 : 강경미\n",
      "나이 : 20\n",
      "주소 : 경기도 고양시\n"
     ]
    }
   ],
   "source": [
    "carami = {'name':'강경미', 'age':20, 'address':'경기도 고양시'}\n",
    "person_info(**carami)"
   ]
  },
  {
   "cell_type": "code",
   "execution_count": 95,
   "metadata": {},
   "outputs": [],
   "source": [
    "def person_info(**kwargs):\n",
    "    for kw, arg in kwargs.items():\n",
    "        print(kw,' : ', arg, sep =' ')"
   ]
  },
  {
   "cell_type": "code",
   "execution_count": 96,
   "metadata": {},
   "outputs": [
    {
     "name": "stdout",
     "output_type": "stream",
     "text": [
      "name  :  강경미\n"
     ]
    }
   ],
   "source": [
    "person_info(name = '강경미')"
   ]
  },
  {
   "cell_type": "code",
   "execution_count": 112,
   "metadata": {
    "scrolled": true
   },
   "outputs": [
    {
     "name": "stdout",
     "output_type": "stream",
     "text": [
      "name  :  강경미\n",
      "age  :  20\n",
      "address  :  경기도 고양시\n"
     ]
    }
   ],
   "source": [
    "person_info(**carami)"
   ]
  },
  {
   "cell_type": "code",
   "execution_count": 113,
   "metadata": {},
   "outputs": [
    {
     "data": {
      "text/plain": [
       "{'name': '강경미', 'age': 20, 'address': '경기도 고양시'}"
      ]
     },
     "execution_count": 113,
     "metadata": {},
     "output_type": "execute_result"
    }
   ],
   "source": [
    "carami"
   ]
  },
  {
   "cell_type": "markdown",
   "metadata": {},
   "source": [
    "#### Unpacking\n",
    "- 다음과 같이 우리가 list나 tuple 또는 dict 형태의 데이터를 가지고 있고 어떤 함수가 가변인자를 받는 경우에 사용할 수 있다."
   ]
  },
  {
   "cell_type": "code",
   "execution_count": 5,
   "metadata": {},
   "outputs": [
    {
     "name": "stdout",
     "output_type": "stream",
     "text": [
      "(2, 3, 5, 7, 11, 13)\n",
      "30030\n",
      "([2, 3, 5, 7, 11, 13],)\n",
      "[2, 3, 5, 7, 11, 13]\n"
     ]
    }
   ],
   "source": [
    "from functools import reduce\n",
    "\n",
    "primes = [2, 3, 5, 7, 11, 13]\n",
    "\n",
    "def product(*numbers):\n",
    "    print(numbers)\n",
    "    p = reduce(lambda x, y: x * y, numbers)\n",
    "    return p\n",
    "\n",
    "print(product(*primes)) # 튜플\n",
    "\n",
    "print(product(primes)) # 리스트"
   ]
  },
  {
   "cell_type": "markdown",
   "metadata": {},
   "source": [
    "#### 재귀함수 (recursive)"
   ]
  },
  {
   "cell_type": "code",
   "execution_count": 102,
   "metadata": {},
   "outputs": [
    {
     "name": "stdout",
     "output_type": "stream",
     "text": [
      "hello world 5\n",
      "hello world 4\n",
      "hello world 3\n",
      "hello world 2\n",
      "hello world 1\n"
     ]
    }
   ],
   "source": [
    "def hello(count):\n",
    "    if count == 0:\n",
    "            return\n",
    "    print('hello world', str(count))\n",
    "    count -= 1\n",
    "    hello(count)\n",
    "    \n",
    "hello(5)"
   ]
  },
  {
   "cell_type": "code",
   "execution_count": 103,
   "metadata": {},
   "outputs": [
    {
     "name": "stdout",
     "output_type": "stream",
     "text": [
      "6\n"
     ]
    }
   ],
   "source": [
    "def factorial(n):\n",
    "    if n == 1:\n",
    "        return 1\n",
    "    return n*factorial(n-1)\n",
    "\n",
    "print(factorial(3))"
   ]
  },
  {
   "cell_type": "markdown",
   "metadata": {},
   "source": [
    "### 변수"
   ]
  },
  {
   "cell_type": "code",
   "execution_count": 110,
   "metadata": {},
   "outputs": [
    {
     "name": "stdout",
     "output_type": "stream",
     "text": [
      "5\n",
      "1\n",
      "5\n",
      "f2 5\n",
      "5\n",
      "f3 10\n",
      "10\n"
     ]
    }
   ],
   "source": [
    "a = 5 # global variable\n",
    "def func1():\n",
    "    a = 1 # local variable\n",
    "    print(a)\n",
    "def func2():\n",
    "    print('f2',a)\n",
    "def func3():\n",
    "    global a # 먼저 선언해야 전역 변수의 내용을 변경할 수 있음.\n",
    "    a = 10 # global variable\n",
    "    print('f3',a)\n",
    "    \n",
    "print(a) # 5\n",
    "func1() # 1\n",
    "print(a) # 5\n",
    "func2()\n",
    "print(a)\n",
    "func3()\n",
    "print(a)"
   ]
  },
  {
   "cell_type": "markdown",
   "metadata": {},
   "source": [
    "### 람다 함수 (lambda)\n",
    "- 익명 함수\n",
    "- lambda <인자>:<인자 활용 수행 코드>\n",
    "- 간단한 코드블럭에 유용"
   ]
  },
  {
   "cell_type": "code",
   "execution_count": 121,
   "metadata": {},
   "outputs": [
    {
     "data": {
      "text/plain": [
       "10"
      ]
     },
     "execution_count": 121,
     "metadata": {},
     "output_type": "execute_result"
    }
   ],
   "source": [
    "# 사용법 1 \n",
    "plus = lambda a:a+5\n",
    "plus(5)"
   ]
  },
  {
   "cell_type": "code",
   "execution_count": 122,
   "metadata": {},
   "outputs": [
    {
     "data": {
      "text/plain": [
       "9"
      ]
     },
     "execution_count": 122,
     "metadata": {},
     "output_type": "execute_result"
    }
   ],
   "source": [
    "# 사용법 2\n",
    "(lambda a : a+5)(4)"
   ]
  },
  {
   "cell_type": "code",
   "execution_count": null,
   "metadata": {},
   "outputs": [],
   "source": []
  }
 ],
 "metadata": {
  "kernelspec": {
   "display_name": "Python 3",
   "language": "python",
   "name": "python3"
  },
  "language_info": {
   "codemirror_mode": {
    "name": "ipython",
    "version": 3
   },
   "file_extension": ".py",
   "mimetype": "text/x-python",
   "name": "python",
   "nbconvert_exporter": "python",
   "pygments_lexer": "ipython3",
   "version": "3.7.6"
  }
 },
 "nbformat": 4,
 "nbformat_minor": 4
}
